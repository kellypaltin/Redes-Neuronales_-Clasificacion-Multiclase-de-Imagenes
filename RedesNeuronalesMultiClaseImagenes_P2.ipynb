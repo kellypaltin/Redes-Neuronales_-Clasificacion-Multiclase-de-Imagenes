{
  "nbformat": 4,
  "nbformat_minor": 0,
  "metadata": {
    "colab": {
      "provenance": []
    },
    "kernelspec": {
      "name": "python3",
      "display_name": "Python 3"
    },
    "language_info": {
      "name": "python"
    }
  },
  "cells": [
    {
      "cell_type": "markdown",
      "metadata": {
        "id": "GPVD7jXw8Ft7"
      },
      "source": [
        "**1.5\tDesarrollar una función propia de predicción para una nueva imagen que puede venir en UNA de las siguientes formas: b.\tUna imagen nueva indicando el PATH**"
      ]
    },
    {
      "cell_type": "markdown",
      "metadata": {
        "id": "6Me6vMT779Hq"
      },
      "source": [
        "*Predicción de nuevos samples (nuevos imagenes)*"
      ]
    },
    {
      "source": [
        "!pip install --upgrade keras"
      ],
      "cell_type": "code",
      "metadata": {
        "colab": {
          "base_uri": "https://localhost:8080/"
        },
        "id": "lzMm-om-q2Po",
        "outputId": "a3c6202e-504a-42ea-d7e7-0c308869a185"
      },
      "execution_count": null,
      "outputs": [
        {
          "output_type": "stream",
          "name": "stdout",
          "text": [
            "Requirement already satisfied: keras in /usr/local/lib/python3.10/dist-packages (3.3.3)\n",
            "Requirement already satisfied: absl-py in /usr/local/lib/python3.10/dist-packages (from keras) (1.4.0)\n",
            "Requirement already satisfied: numpy in /usr/local/lib/python3.10/dist-packages (from keras) (1.25.2)\n",
            "Requirement already satisfied: rich in /usr/local/lib/python3.10/dist-packages (from keras) (13.7.1)\n",
            "Requirement already satisfied: namex in /usr/local/lib/python3.10/dist-packages (from keras) (0.0.8)\n",
            "Requirement already satisfied: h5py in /usr/local/lib/python3.10/dist-packages (from keras) (3.9.0)\n",
            "Requirement already satisfied: optree in /usr/local/lib/python3.10/dist-packages (from keras) (0.11.0)\n",
            "Requirement already satisfied: ml-dtypes in /usr/local/lib/python3.10/dist-packages (from keras) (0.2.0)\n",
            "Requirement already satisfied: typing-extensions>=4.0.0 in /usr/local/lib/python3.10/dist-packages (from optree->keras) (4.11.0)\n",
            "Requirement already satisfied: markdown-it-py>=2.2.0 in /usr/local/lib/python3.10/dist-packages (from rich->keras) (3.0.0)\n",
            "Requirement already satisfied: pygments<3.0.0,>=2.13.0 in /usr/local/lib/python3.10/dist-packages (from rich->keras) (2.16.1)\n",
            "Requirement already satisfied: mdurl~=0.1 in /usr/local/lib/python3.10/dist-packages (from markdown-it-py>=2.2.0->rich->keras) (0.1.2)\n"
          ]
        }
      ]
    },
    {
      "cell_type": "code",
      "execution_count": null,
      "metadata": {
        "id": "J8maulac2812",
        "colab": {
          "base_uri": "https://localhost:8080/"
        },
        "outputId": "4a717e70-0699-4695-905b-1a2fc9836918"
      },
      "outputs": [
        {
          "output_type": "stream",
          "name": "stderr",
          "text": [
            "WARNING:absl:Compiled the loaded model, but the compiled metrics have yet to be built. `model.compile_metrics` will be empty until you train or evaluate the model.\n"
          ]
        },
        {
          "output_type": "stream",
          "name": "stdout",
          "text": [
            "Red Neuronal Cargada desde Archivo\n"
          ]
        }
      ],
      "source": [
        "from keras.models import load_model\n",
        "import numpy as np\n",
        "import matplotlib.pyplot as plt\n",
        "modeloOptimizado = load_model('/content/modeloRedNeuronalOptimizado.h5')\n",
        "print(\"Red Neuronal Cargada desde Archivo\")\n"
      ]
    },
    {
      "cell_type": "code",
      "execution_count": null,
      "metadata": {
        "colab": {
          "base_uri": "https://localhost:8080/",
          "height": 534
        },
        "outputId": "ac009f41-cdcb-4c7b-a0c5-710a1cdb142c",
        "id": "d9t1m0NbsneV"
      },
      "outputs": [
        {
          "output_type": "stream",
          "name": "stdout",
          "text": [
            "\u001b[1m1/1\u001b[0m \u001b[32m━━━━━━━━━━━━━━━━━━━━\u001b[0m\u001b[37m\u001b[0m \u001b[1m0s\u001b[0m 25ms/step\n"
          ]
        },
        {
          "output_type": "display_data",
          "data": {
            "text/plain": [
              "<Figure size 600x600 with 1 Axes>"
            ],
            "image/png": "[encoded data removed]"
          },
          "metadata": {}
        },
        {
          "output_type": "stream",
          "name": "stdout",
          "text": [
            "Predicción final: dog (Valor: 1.0000)\n"
          ]
        }
      ],
      "source": [
        "import cv2\n",
        "image_path = '/content/mia.jpg'  # Reemplaza 'ruta_de_tu_imagen.jpg' con la ruta correcta\n",
        "\n",
        "# Cargar la imagen desde tu computadora\n",
        "image = cv2.imread(image_path)\n",
        "\n",
        "# Asegurarse de que la imagen se haya cargado correctamente\n",
        "if image is not None:\n",
        "    # Preprocesar la imagen\n",
        "    image = cv2.cvtColor(image, cv2.COLOR_BGR2RGB)  # Convertir de BGR a RGB si es necesario\n",
        "    image = cv2.resize(image, (32, 32))  # Cambiar el tamaño de la imagen si es necesario\n",
        "    image = image.reshape(1, -1)\n",
        "\n",
        "    # Realizar la predicción\n",
        "    predictions = modeloOptimizado.predict(image)\n",
        "    predictions = predictions.flatten()\n",
        "\n",
        "    # Obtener el nombre de las etiquetas\n",
        "    label_names = ['airplane', 'automobile', 'bird', 'cat', 'deer', 'dog', 'frog', 'horse', 'ship', 'truck']\n",
        "\n",
        "    # Obtener la clase con el valor más alto como predicción final\n",
        "    predicted_class_index = predictions.argmax()\n",
        "    predicted_class_name = label_names[predicted_class_index]\n",
        "    predicted_class_value = predictions[predicted_class_index]\n",
        "\n",
        "    # Mostrar la imagen con el resultado en la parte superior\n",
        "    fig = plt.figure(figsize=(6, 6))\n",
        "    plt.text(0, 1.05, 'Predicción: {}'.format(predicted_class_name), fontsize=12, weight='bold', ha='left', va='top')\n",
        "    plt.imshow(image.reshape(32, 32, 3))\n",
        "    plt.axis('off')\n",
        "    plt.show()\n",
        "\n",
        "    print('Predicción final: {} (Valor: {:.4f})'.format(predicted_class_name, predicted_class_value))\n",
        "else:\n",
        "    print('No se pudo cargar la imagen desde la ruta especificada.')"
      ]
    },
    {
      "cell_type": "markdown",
      "metadata": {
        "id": "dtIL9hOL8sWs"
      },
      "source": [
        "**1.6\tConclusiones**\n",
        "- Primeramente describimos el dataset en el cual hablamos de las diez categorias que tiene (airplane : 0 automobile : 1 bird : 2 cat : 3 deer : 4 dog : 5 frog : 6 horse : 7 ship : 8 truck : 9), ademas recordar que este dataset tiene 60000 imagenes, 50000 para train y 10000 para test, además analizamos sus dimensiones y todos los valores relevantes del dataset.\n",
        "- En la parte del entrenamiento de la red neuronal base lo que hicimos fue realizar un modelo de 3 capas con neuronas de 32, 64 y 10 neuronas respectivamente, comenzamos con una estructura simple y con los epochs a 10, esto para lograr un mejor resultado del entrenamiento. Asi es como conseguimnos una accurracy del 0.39.\n",
        "- Luego mostramos los resultados de calidad que viene a ser buenos (Accuracy: 0.4256, Precision:  0.4215, Recall:  0.4256, F1: 0.4194). Adenas de que mostramos la matriz de confusion donde pudimos ver que la mayoria de aciertos en cuanto a reales y prediccion son con los airplane, frog y ship.\n",
        "-Despues con esos fundamentos, logramos pasar a la optimizacion del modelo de la red neuronal (fine tuning); seguimos con el Paso 1. Parámetros de compilación: batcha size, cantidad de epochs, optimizador, con la ayuda del GridSearch, conseguimnos realizar una gran cantidad de comparacion donde llegamos a la conclusion de que con  batch_size: 300, 'epochs': 20, 'optimizer': 'Adam' llegamos una accurracy del 0.38.\n",
        "- Aplicando los mejores parametros de compilacion que recien conseguimos a concer pasamod son el Paso 2. Densidad de las capas de neuronas y regularización de Dropout, donde nos muestra que con 'model__dr': 0, 'model__l1': 64, 'model__l2': 64 tenemos un accuracy de 0.42.\n",
        "-Realizamos comparaciones de ambos modelos y, con la ayuda de tablas y mapas de calor, llegamos a la conclusion que el modelo Optimizado, que junta todos nuestros nuevos valores a los parametros mas revelantes lo usamos para ajustar nuestro nuevo modelo optimizado llegamos a alcanzar un nuevo accuracy de 0.45, tiene una mejora del 0.204%, lo cual puede parecer leve por el momento pero en si demuestra la eficacia de los procedimientos de la optimizacion.\n",
        "- Por ultimo logramos hacer predicciones, utilizando el modelo Optimizado, de imagenes sacada de una ruta en donde usamos una foto de una perrita y la prediccion acertó con que era un perro.\n",
        "- A lo largo de la practica llegamos tambien a conclusiones tambien en como se podria mejor estos procesos de optimizacion de una red neuronal, tratar de trabajar con un batch de imagenes primero para que podamos realizar las ejecuciones y pruebas de manera mas agil, diseñar un modelo con pocas capas y que sea simple para que el gridsearch no comsuma tantos recursos ni tanto tiempo."
      ]
    },
    {
      "cell_type": "markdown",
      "metadata": {
        "id": "luh_8kZ28sNc"
      },
      "source": [
        "**1.7\tReferencias**\n",
        "- CIFAR-10 and CIFAR-100 datasets. (s/f). Toronto.edu. Recuperado de https://www.cs.toronto.edu/~kriz/cifar.html\n",
        "- OpenCV: OpenCV modules. (s. f.). Recuperado de https://docs.opencv.org/4.x/\n",
        "- Activation parameter not working in GridSearch. (2022). stackoverflow. Recuperado de https://stackoverflow.com/questions/70250928/activation-parameter-not-working-in-gridsearch#comment126992357_70250928"
      ]
    }
  ]
}