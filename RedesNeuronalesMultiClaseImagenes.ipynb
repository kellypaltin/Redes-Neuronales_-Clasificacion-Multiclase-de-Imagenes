{
  "cells": [
    {
      "cell_type": "markdown",
      "metadata": {
        "id": "3PevPKghy6PQ"
      },
      "source": [
        "**Redes Neuronales Multiclase Imagenes**"
      ]
    },
    {
      "cell_type": "code",
      "execution_count": null,
      "metadata": {
        "colab": {
          "base_uri": "https://localhost:8080/"
        },
        "id": "iNvRrUIxoi_4",
        "outputId": "2646b81c-e22c-43de-8d9c-6beef1ed2a49"
      },
      "outputs": [
        {
          "name": "stdout",
          "output_type": "stream",
          "text": [
            "Requirement already satisfied: scikeras in /usr/local/lib/python3.10/dist-packages (0.13.0)\n",
            "Requirement already satisfied: keras>=3.2.0 in /usr/local/lib/python3.10/dist-packages (from scikeras) (3.3.3)\n",
            "Requirement already satisfied: scikit-learn>=1.4.2 in /usr/local/lib/python3.10/dist-packages (from scikeras) (1.4.2)\n",
            "Requirement already satisfied: absl-py in /usr/local/lib/python3.10/dist-packages (from keras>=3.2.0->scikeras) (1.4.0)\n",
            "Requirement already satisfied: numpy in /usr/local/lib/python3.10/dist-packages (from keras>=3.2.0->scikeras) (1.25.2)\n",
            "Requirement already satisfied: rich in /usr/local/lib/python3.10/dist-packages (from keras>=3.2.0->scikeras) (13.7.1)\n",
            "Requirement already satisfied: namex in /usr/local/lib/python3.10/dist-packages (from keras>=3.2.0->scikeras) (0.0.8)\n",
            "Requirement already satisfied: h5py in /usr/local/lib/python3.10/dist-packages (from keras>=3.2.0->scikeras) (3.9.0)\n",
            "Requirement already satisfied: optree in /usr/local/lib/python3.10/dist-packages (from keras>=3.2.0->scikeras) (0.11.0)\n",
            "Requirement already satisfied: ml-dtypes in /usr/local/lib/python3.10/dist-packages (from keras>=3.2.0->scikeras) (0.2.0)\n",
            "Requirement already satisfied: scipy>=1.6.0 in /usr/local/lib/python3.10/dist-packages (from scikit-learn>=1.4.2->scikeras) (1.11.4)\n",
            "Requirement already satisfied: joblib>=1.2.0 in /usr/local/lib/python3.10/dist-packages (from scikit-learn>=1.4.2->scikeras) (1.4.0)\n",
            "Requirement already satisfied: threadpoolctl>=2.0.0 in /usr/local/lib/python3.10/dist-packages (from scikit-learn>=1.4.2->scikeras) (3.4.0)\n",
            "Requirement already satisfied: typing-extensions>=4.0.0 in /usr/local/lib/python3.10/dist-packages (from optree->keras>=3.2.0->scikeras) (4.11.0)\n",
            "Requirement already satisfied: markdown-it-py>=2.2.0 in /usr/local/lib/python3.10/dist-packages (from rich->keras>=3.2.0->scikeras) (3.0.0)\n",
            "Requirement already satisfied: pygments<3.0.0,>=2.13.0 in /usr/local/lib/python3.10/dist-packages (from rich->keras>=3.2.0->scikeras) (2.16.1)\n",
            "Requirement already satisfied: mdurl~=0.1 in /usr/local/lib/python3.10/dist-packages (from markdown-it-py>=2.2.0->rich->keras>=3.2.0->scikeras) (0.1.2)\n"
          ]
        }
      ],
      "source": [
        "!pip install scikeras"
      ]
    },
    {
      "cell_type": "code",
      "execution_count": null,
      "metadata": {
        "colab": {
          "base_uri": "https://localhost:8080/"
        },
        "id": "qtYz1PhZB7KH",
        "outputId": "240c41c9-bd10-43bc-abdb-5c60ebc16ef9"
      },
      "outputs": [
        {
          "name": "stdout",
          "output_type": "stream",
          "text": [
            "Módulos y clases importados\n"
          ]
        }
      ],
      "source": [
        "import pandas as pd\n",
        "import numpy as np\n",
        "import matplotlib.pyplot as plt\n",
        "\n",
        "from time import time\n",
        "from datetime import datetime, timedelta\n",
        "\n",
        "from sklearn.impute import SimpleImputer\n",
        "from sklearn.preprocessing import OneHotEncoder, StandardScaler, OrdinalEncoder, MinMaxScaler\n",
        "from sklearn.compose import make_column_transformer, ColumnTransformer\n",
        "from sklearn.pipeline import Pipeline\n",
        "import pickle\n",
        "import seaborn as sns\n",
        "import copy\n",
        "\n",
        "from sklearn.model_selection import train_test_split\n",
        "from scikeras.wrappers import KerasClassifier, KerasRegressor\n",
        "from sklearn.model_selection import cross_val_score\n",
        "from sklearn.model_selection import StratifiedKFold\n",
        "from sklearn.model_selection import ShuffleSplit\n",
        "from sklearn.model_selection import GridSearchCV\n",
        "from keras.layers import Dropout\n",
        "\n",
        "import keras\n",
        "from keras.layers import Dense\n",
        "from keras.models import Sequential\n",
        "from keras.models import model_from_json\n",
        "from keras.models import load_model\n",
        "\n",
        "from sklearn import metrics\n",
        "from sklearn.metrics import confusion_matrix\n",
        "from sklearn.metrics import accuracy_score\n",
        "from sklearn.metrics import precision_score\n",
        "from sklearn.metrics import recall_score\n",
        "from sklearn.metrics import f1_score\n",
        "\n",
        "from sklearn import set_config\n",
        "\n",
        "print(\"Módulos y clases importados\")"
      ]
    },
    {
      "cell_type": "markdown",
      "metadata": {
        "id": "mdgJ7AyT3bYm"
      },
      "source": [
        "**1. Diseñar un Modelo de Redes Neuronales (para un problema de clasificación de imágenes multiclase) en un cuaderno de Jupyter notebook con Python con los siguientes pasos:**"
      ]
    },
    {
      "cell_type": "markdown",
      "metadata": {
        "id": "IT1UemR23iLW"
      },
      "source": [
        "**1.1\tDescripción del problema y dataset, número imágenes, indicar las dimensiones, cantidad de clases o etiquetas.**"
      ]
    },
    {
      "cell_type": "markdown",
      "metadata": {
        "id": "XstoinM_5SGO"
      },
      "source": [
        "Descripcion del conjunto de datos:\n",
        "\n",
        "\n",
        "*   Número de imágenes: El conjunto de datos contiene un total de 60.000 imágenes a color\n",
        "*   Dimensiones de las imágenes: Todas las imágenes tienen un tamaño de 32x32 píxeles.\n",
        "* Número de clases: Hay 10 clases diferentes en el conjunto de datos.\n",
        "* Número de imágenes por clase: Cada clase contiene 6.000 imágenes.\n",
        "* División de los datos: Los datos están divididos en 50,000 imágenes de entrenamiento y 10,000 imágenes de prueba.\n",
        "* Divisiones específicas:\n",
        "Hay cinco lotes de entrenamiento, cada uno con 10,000 imágenes, y un lote de prueba con 10,000 imágenes.\n",
        "El lote de prueba contiene 1,000 imágenes seleccionadas al azar de cada clase.\n",
        "Los lotes de entrenamiento contienen las imágenes restantes, con un total de 5,000 imágenes de cada clase distribuidas entre los lotes.\n",
        "* Mutuamente excluyentes: Las clases son completamente mutuamente excluyentes, una imagen solo puede pertenecer a una clase.\n",
        "\n",
        "Clases en el conjunto de datos:\n",
        "\n",
        "* Avión\n",
        "* Automóvil\n",
        "* Pájaro\n",
        "* Gato\n",
        "* Ciervo\n",
        "* Perro\n",
        "* Rana\n",
        "* Caballo\n",
        "* Barco\n",
        "* Camión\n",
        "\n"
      ]
    },
    {
      "cell_type": "markdown",
      "metadata": {
        "id": "05GDaEBV-FI-"
      },
      "source": [
        "Cargado de esta forma, cada uno de los archivos por lotes contiene un diccionario con los siguientes elementos:\n",
        "\n",
        "datos: una gran variedad de uint8 de 10000x3072. Cada fila de la matriz almacena una imagen en color de 32x32. Las primeras 1024 entradas contienen los valores del canal rojo, las 1024 siguientes el verde y las 1024 finales el azul. La imagen se almacena en orden de fila principal, de modo que las primeras 32 entradas de la matriz sean los valores del canal rojo de la primera fila de la imagen.\n",
        "\n",
        "etiquetas: una lista de 10000 números en el rango del 0 al 9. El número en el índice i indica la etiqueta de la iésima imagen en los datos de la matriz."
      ]
    },
    {
      "cell_type": "code",
      "execution_count": null,
      "metadata": {
        "colab": {
          "base_uri": "https://localhost:8080/"
        },
        "id": "yB0-l94pLcCZ",
        "outputId": "3060cb4f-6dd8-4a9e-b690-675c68f05393"
      },
      "outputs": [
        {
          "name": "stdout",
          "output_type": "stream",
          "text": [
            "Requirement already satisfied: opencv-python in /usr/local/lib/python3.10/dist-packages (4.8.0.76)\n",
            "Requirement already satisfied: numpy>=1.21.2 in /usr/local/lib/python3.10/dist-packages (from opencv-python) (1.25.2)\n",
            "importadas\n"
          ]
        }
      ],
      "source": [
        "!pip install opencv-python\n",
        "import cv2 as cv\n",
        "import tarfile\n",
        "import numpy as np\n",
        "from tensorflow.keras.datasets import cifar10\n",
        "import matplotlib.pyplot as plt\n",
        "print('importadas')"
      ]
    },
    {
      "cell_type": "code",
      "execution_count": null,
      "metadata": {
        "id": "J8maulac2812"
      },
      "outputs": [],
      "source": [
        "#Funciones para guardar y cargar la Red Neuronal (Arquitectura y Pesos)\n",
        "def guardarNN(model,nombreArchivo):\n",
        "    print(\"Guardando Red Neuronal en Archivo\")\n",
        "    model.save(nombreArchivo+'.h5')\n",
        "    print(\"Red Neuronal Grabada en Archivo\")\n",
        "\n",
        "def cargarNN(nombreArchivo):\n",
        "    model = load_model(nombreArchivo+'.h5')\n",
        "    print(\"Red Neuronal Cargada desde Archivo\")\n",
        "    return model"
      ]
    },
    {
      "cell_type": "code",
      "execution_count": null,
      "metadata": {
        "colab": {
          "base_uri": "https://localhost:8080/"
        },
        "id": "TyVG2TkvlMqE",
        "outputId": "26a06677-6e69-4bdf-be13-b51a241385c5"
      },
      "outputs": [
        {
          "name": "stdout",
          "output_type": "stream",
          "text": [
            "Downloading data from https://www.cs.toronto.edu/~kriz/cifar-10-python.tar.gz\n",
            "\u001b[1m170498071/170498071\u001b[0m \u001b[32m━━━━━━━━━━━━━━━━━━━━\u001b[0m\u001b[37m\u001b[0m \u001b[1m12s\u001b[0m 0us/step\n",
            "Dataset Cargado\n"
          ]
        }
      ],
      "source": [
        "#Para cargar el Dataset desde la web\n",
        "(X_train, y_train), (X_test, y_test) = cifar10.load_data()\n",
        "print('Dataset Cargado')"
      ]
    },
    {
      "cell_type": "code",
      "execution_count": null,
      "metadata": {
        "colab": {
          "base_uri": "https://localhost:8080/"
        },
        "id": "xFlAwsfclSbM",
        "outputId": "5dd22c15-6913-4d2b-fb32-f30a000a080e"
      },
      "outputs": [
        {
          "name": "stdout",
          "output_type": "stream",
          "text": [
            "(50000, 32, 32, 3)\n",
            "(10000, 32, 32, 3)\n",
            "(50000, 1)\n",
            "(10000, 1)\n"
          ]
        }
      ],
      "source": [
        "print(X_train.shape)\n",
        "print(X_test.shape)\n",
        "print(y_train.shape)\n",
        "print(y_test.shape)"
      ]
    },
    {
      "cell_type": "code",
      "execution_count": null,
      "metadata": {
        "id": "NiWNioGZlYuT"
      },
      "outputs": [],
      "source": [
        "# Normalizar los valores de píxeles entre 0 y 1\n",
        "X_train = X_train / 255.0\n",
        "X_test = X_test / 255.0"
      ]
    },
    {
      "cell_type": "code",
      "execution_count": null,
      "metadata": {
        "colab": {
          "base_uri": "https://localhost:8080/"
        },
        "id": "LMV-llNTlbgO",
        "outputId": "d82d034b-2c52-4cdb-cba9-e47b03865f7b"
      },
      "outputs": [
        {
          "name": "stdout",
          "output_type": "stream",
          "text": [
            "(50000, 3072)\n",
            "(10000, 3072)\n"
          ]
        }
      ],
      "source": [
        "X_trainReshapeImageRow=X_train.reshape((X_train.shape[0],3072))\n",
        "print(X_trainReshapeImageRow.shape)\n",
        "X_testReshapeImageRow=X_test.reshape((X_test.shape[0],3072))\n",
        "print(X_testReshapeImageRow.shape)"
      ]
    },
    {
      "cell_type": "code",
      "execution_count": null,
      "metadata": {
        "colab": {
          "base_uri": "https://localhost:8080/"
        },
        "id": "2IzaTOlklUbx",
        "outputId": "542200e5-ccd6-4183-d831-8af99b4cd1e0"
      },
      "outputs": [
        {
          "data": {
            "text/plain": [
              "(3072,)"
            ]
          },
          "execution_count": 16,
          "metadata": {},
          "output_type": "execute_result"
        }
      ],
      "source": [
        "X_trainReshapeImageRow[0].shape"
      ]
    },
    {
      "cell_type": "code",
      "execution_count": null,
      "metadata": {
        "id": "IlcYLkzolxRa"
      },
      "outputs": [],
      "source": [
        "x_train=X_trainReshapeImageRow\n",
        "x_test=X_testReshapeImageRow"
      ]
    },
    {
      "cell_type": "code",
      "execution_count": null,
      "metadata": {
        "colab": {
          "base_uri": "https://localhost:8080/"
        },
        "id": "ooVOkkBWf65l",
        "outputId": "0b1b1f02-b4ca-48d8-eb1d-eccabf1f481b"
      },
      "outputs": [
        {
          "name": "stdout",
          "output_type": "stream",
          "text": [
            "(50000, 3072)\n",
            "(10000, 3072)\n",
            "(50000, 1)\n",
            "(10000, 1)\n"
          ]
        }
      ],
      "source": [
        "print(x_train.shape)\n",
        "print(x_test.shape)\n",
        "print(y_train.shape)\n",
        "print(y_test.shape)"
      ]
    },
    {
      "cell_type": "markdown",
      "metadata": {
        "id": "KhE7dNtF3_ex"
      },
      "source": [
        "1.2\t**Realizar análisis exploratorio de imágenes: con una función visualizar una imagen o varias imágenes, indicar sus dimensiones y su clase o etiqueta.**  "
      ]
    },
    {
      "cell_type": "code",
      "execution_count": null,
      "metadata": {
        "id": "NhzlTACLLhbx"
      },
      "outputs": [],
      "source": [
        "import cv2 as cv                  # open vision library OpenCV\n",
        "\n",
        "def _load_label_names():\n",
        "    \"\"\"\n",
        "    Load the label names from file\n",
        "    \"\"\"\n",
        "    return ['airplane', 'automobile', 'bird', 'cat', 'deer', 'dog', 'frog', 'horse', 'ship', 'truck']\n",
        "\n",
        "def display_stats(sample_id):\n",
        "    \"\"\"\n",
        "    Display Stats of the the dataset\n",
        "    \"\"\"\n",
        "    features, labels = X_trainReshapeImageRow, y_train\n",
        "\n",
        "    print('Samples (cantidad de imágenes): {}'.format(len(features)))\n",
        "    print('Cantidad de Etiquetas: {}'.format(dict(zip(*np.unique(labels, return_counts=True)))))\n",
        "    #print('Primeras 20 Etiquetas: {}'.format(labels[:20]))\n",
        "\n",
        "    sample_image = features[sample_id]\n",
        "    sample_label = labels[sample_id][0]\n",
        "    label_names = _load_label_names()\n",
        "\n",
        "    print('\\nImagen {}:'.format(sample_id))\n",
        "    print('Imagen - Valor Min: {} Valor Max: {}'.format(sample_image.min(), sample_image.max()))\n",
        "    print('Imagen - Shape: {}'.format(sample_image.shape))\n",
        "    print('Etiqueta - Etiqueta Id: {} Nombre: {}'.format(sample_label, label_names[sample_label]))\n",
        "    #plt.axis('off')\n",
        "    imagen=sample_image.reshape(32, 32, 3)#.transpose(1, 2, 0)\n",
        "    plt.imshow(imagen)\n",
        "    cv.imwrite('imagen.jpg', imagen)\n",
        "\n",
        "def display_images_with_stats(sample_ids, X_train, y_train, label_names):\n",
        "    \"\"\"\n",
        "    Display images along with their dimensions and labels\n",
        "    \"\"\"\n",
        "    num_samples = len(X_train)\n",
        "\n",
        "    for sample_id in sample_ids:\n",
        "        if sample_id >= num_samples:\n",
        "            print(f\"Sample ID {sample_id} fuera del rango de muestras.\")\n",
        "            continue\n",
        "\n",
        "        sample_image = X_train[sample_id]\n",
        "        sample_label = y_train[sample_id][0]\n",
        "\n",
        "        print('\\nImagen {}:'.format(sample_id))\n",
        "        print('Dimensiones de la imagen - Alto: {} Ancho: {} Canales: {}'.format(sample_image.shape[0], sample_image.shape[1], sample_image.shape[2]))\n",
        "        print('Etiqueta - Etiqueta Id: {} Nombre: {}'.format(sample_label, label_names[sample_label]))\n",
        "\n",
        "        plt.imshow(sample_image)\n",
        "        plt.axis('off')\n",
        "        plt.show()"
      ]
    },
    {
      "cell_type": "code",
      "execution_count": null,
      "metadata": {
        "colab": {
          "base_uri": "https://localhost:8080/",
          "height": 472
        },
        "id": "_bR_wMnnMKpa",
        "outputId": "c0859905-aad9-49b6-db8e-76ba07468dba"
      },
      "outputs": [
        {
          "data": {
            "image/png": "[encoded data removed]",
            "text/plain": [
              "<Figure size 640x480 with 1 Axes>"
            ]
          },
          "metadata": {},
          "output_type": "display_data"
        }
      ],
      "source": [
        "import matplotlib.pyplot as plt\n",
        "from collections import Counter\n",
        "Y=y_train.flatten().tolist()\n",
        "Y.extend(y_test.flatten().tolist())\n",
        "\n",
        "# Utiliza Counter para contar las frecuencias de los elementos en la lista\n",
        "frecuencias = Counter(Y)\n",
        "\n",
        "# Separa las claves (elementos) y los valores (frecuencias) en listas separadas\n",
        "elementos = list(frecuencias.keys())\n",
        "frecuencias = list(frecuencias.values())\n",
        "\n",
        "# Crea un gráfico de barras\n",
        "plt.bar(elementos, frecuencias)\n",
        "\n",
        "# Etiquetas y título\n",
        "plt.xlabel('Categorías')\n",
        "plt.ylabel('Frecuencia')\n",
        "plt.title('Gráfico de Frecuencia')\n",
        "\n",
        "# Establece las etiquetas del eje X\n",
        "plt.xticks(elementos)\n",
        "\n",
        "# Muestra el gráfico\n",
        "plt.show()"
      ]
    },
    {
      "cell_type": "code",
      "execution_count": null,
      "metadata": {
        "colab": {
          "base_uri": "https://localhost:8080/",
          "height": 551
        },
        "id": "WK5nc1gal1mt",
        "outputId": "fba86e61-dbdf-4700-b538-4fe390ae5038"
      },
      "outputs": [
        {
          "name": "stdout",
          "output_type": "stream",
          "text": [
            "Samples (cantidad de imágenes): 50000\n",
            "Cantidad de Etiquetas: {0: 5000, 1: 5000, 2: 5000, 3: 5000, 4: 5000, 5: 5000, 6: 5000, 7: 5000, 8: 5000, 9: 5000}\n",
            "\n",
            "Imagen 1783:\n",
            "Imagen - Valor Min: 0.0196078431372549 Valor Max: 0.9529411764705882\n",
            "Imagen - Shape: (3072,)\n",
            "Etiqueta - Etiqueta Id: 7 Nombre: horse\n"
          ]
        },
        {
          "data": {
            "image/png": "[encoded data removed]",
            "text/plain": [
              "<Figure size 640x480 with 1 Axes>"
            ]
          },
          "metadata": {},
          "output_type": "display_data"
        }
      ],
      "source": [
        "sample_id = 1783\n",
        "display_stats(sample_id)"
      ]
    },
    {
      "cell_type": "code",
      "execution_count": null,
      "metadata": {
        "colab": {
          "base_uri": "https://localhost:8080/",
          "height": 1000
        },
        "id": "h83tsAxfl2WP",
        "outputId": "b7f2a29e-6ade-4310-ba51-c253abbe8d51"
      },
      "outputs": [
        {
          "name": "stdout",
          "output_type": "stream",
          "text": [
            "\n",
            "Imagen 100:\n",
            "Dimensiones de la imagen - Alto: 32 Ancho: 32 Canales: 3\n",
            "Etiqueta - Etiqueta Id: 8 Nombre: ship\n"
          ]
        },
        {
          "data": {
            "image/png": "[encoded data removed]",
            "text/plain": [
              "<Figure size 640x480 with 1 Axes>"
            ]
          },
          "metadata": {},
          "output_type": "display_data"
        },
        {
          "name": "stdout",
          "output_type": "stream",
          "text": [
            "\n",
            "Imagen 200:\n",
            "Dimensiones de la imagen - Alto: 32 Ancho: 32 Canales: 3\n",
            "Etiqueta - Etiqueta Id: 6 Nombre: frog\n"
          ]
        },
        {
          "data": {
            "image/png": "[encoded data removed]",
            "text/plain": [
              "<Figure size 640x480 with 1 Axes>"
            ]
          },
          "metadata": {},
          "output_type": "display_data"
        },
        {
          "name": "stdout",
          "output_type": "stream",
          "text": [
            "\n",
            "Imagen 300:\n",
            "Dimensiones de la imagen - Alto: 32 Ancho: 32 Canales: 3\n",
            "Etiqueta - Etiqueta Id: 2 Nombre: bird\n"
          ]
        },
        {
          "data": {
            "image/png": "[encoded data removed]",
            "text/plain": [
              "<Figure size 640x480 with 1 Axes>"
            ]
          },
          "metadata": {},
          "output_type": "display_data"
        },
        {
          "name": "stdout",
          "output_type": "stream",
          "text": [
            "\n",
            "Imagen 400:\n",
            "Dimensiones de la imagen - Alto: 32 Ancho: 32 Canales: 3\n",
            "Etiqueta - Etiqueta Id: 2 Nombre: bird\n"
          ]
        },
        {
          "data": {
            "image/png": "[encoded data removed]",
            "text/plain": [
              "<Figure size 640x480 with 1 Axes>"
            ]
          },
          "metadata": {},
          "output_type": "display_data"
        }
      ],
      "source": [
        "label_names = _load_label_names()\n",
        "sample_ids_to_display = [100, 200, 300, 400]\n",
        "display_images_with_stats(sample_ids_to_display, X_train, y_train, label_names)"
      ]
    },
    {
      "cell_type": "markdown",
      "metadata": {
        "id": "kXVciUJS7N9T"
      },
      "source": [
        "1.3\t**Desarrollar, entrenar y optimizar una red neuronal para clasificación multiclase**"
      ]
    },
    {
      "cell_type": "markdown",
      "metadata": {
        "id": "lKbHk_Nm7ecq"
      },
      "source": [
        "*Entrenamiento base de una red neuronal*"
      ]
    },
    {
      "cell_type": "code",
      "execution_count": null,
      "metadata": {
        "colab": {
          "base_uri": "https://localhost:8080/"
        },
        "id": "wKJS0SELMTvd",
        "outputId": "cd0aeadd-681a-4fba-8122-ca38aa282e84"
      },
      "outputs": [
        {
          "name": "stderr",
          "output_type": "stream",
          "text": [
            "/usr/local/lib/python3.10/dist-packages/keras/src/layers/core/dense.py:87: UserWarning: Do not pass an `input_shape`/`input_dim` argument to a layer. When using Sequential models, prefer using an `Input(shape)` object as the first layer in the model instead.\n",
            "  super().__init__(activity_regularizer=activity_regularizer, **kwargs)\n"
          ]
        },
        {
          "name": "stdout",
          "output_type": "stream",
          "text": [
            "Epoch 1/15\n",
            "\u001b[1m143/143\u001b[0m \u001b[32m━━━━━━━━━━━━━━━━━━━━\u001b[0m\u001b[37m\u001b[0m \u001b[1m3s\u001b[0m 10ms/step - accuracy: 0.1866 - loss: 2.1679\n",
            "Epoch 2/15\n",
            "\u001b[1m143/143\u001b[0m \u001b[32m━━━━━━━━━━━━━━━━━━━━\u001b[0m\u001b[37m\u001b[0m \u001b[1m1s\u001b[0m 10ms/step - accuracy: 0.2947 - loss: 1.9119\n",
            "Epoch 3/15\n",
            "\u001b[1m143/143\u001b[0m \u001b[32m━━━━━━━━━━━━━━━━━━━━\u001b[0m\u001b[37m\u001b[0m \u001b[1m3s\u001b[0m 10ms/step - accuracy: 0.3190 - loss: 1.8573\n",
            "Epoch 4/15\n",
            "\u001b[1m143/143\u001b[0m \u001b[32m━━━━━━━━━━━━━━━━━━━━\u001b[0m\u001b[37m\u001b[0m \u001b[1m2s\u001b[0m 14ms/step - accuracy: 0.3328 - loss: 1.8199\n",
            "Epoch 5/15\n",
            "\u001b[1m143/143\u001b[0m \u001b[32m━━━━━━━━━━━━━━━━━━━━\u001b[0m\u001b[37m\u001b[0m \u001b[1m2s\u001b[0m 11ms/step - accuracy: 0.3477 - loss: 1.7927\n",
            "Epoch 6/15\n",
            "\u001b[1m143/143\u001b[0m \u001b[32m━━━━━━━━━━━━━━━━━━━━\u001b[0m\u001b[37m\u001b[0m \u001b[1m2s\u001b[0m 10ms/step - accuracy: 0.3540 - loss: 1.7708\n",
            "Epoch 7/15\n",
            "\u001b[1m143/143\u001b[0m \u001b[32m━━━━━━━━━━━━━━━━━━━━\u001b[0m\u001b[37m\u001b[0m \u001b[1m1s\u001b[0m 10ms/step - accuracy: 0.3681 - loss: 1.7402\n",
            "Epoch 8/15\n",
            "\u001b[1m143/143\u001b[0m \u001b[32m━━━━━━━━━━━━━━━━━━━━\u001b[0m\u001b[37m\u001b[0m \u001b[1m1s\u001b[0m 10ms/step - accuracy: 0.3755 - loss: 1.7377\n",
            "Epoch 9/15\n",
            "\u001b[1m143/143\u001b[0m \u001b[32m━━━━━━━━━━━━━━━━━━━━\u001b[0m\u001b[37m\u001b[0m \u001b[1m1s\u001b[0m 10ms/step - accuracy: 0.3777 - loss: 1.7212\n",
            "Epoch 10/15\n",
            "\u001b[1m143/143\u001b[0m \u001b[32m━━━━━━━━━━━━━━━━━━━━\u001b[0m\u001b[37m\u001b[0m \u001b[1m1s\u001b[0m 10ms/step - accuracy: 0.3868 - loss: 1.7107\n",
            "Epoch 11/15\n",
            "\u001b[1m143/143\u001b[0m \u001b[32m━━━━━━━━━━━━━━━━━━━━\u001b[0m\u001b[37m\u001b[0m \u001b[1m3s\u001b[0m 15ms/step - accuracy: 0.3891 - loss: 1.7040\n",
            "Epoch 12/15\n",
            "\u001b[1m143/143\u001b[0m \u001b[32m━━━━━━━━━━━━━━━━━━━━\u001b[0m\u001b[37m\u001b[0m \u001b[1m2s\u001b[0m 10ms/step - accuracy: 0.3908 - loss: 1.6871\n",
            "Epoch 13/15\n",
            "\u001b[1m143/143\u001b[0m \u001b[32m━━━━━━━━━━━━━━━━━━━━\u001b[0m\u001b[37m\u001b[0m \u001b[1m3s\u001b[0m 10ms/step - accuracy: 0.3882 - loss: 1.6944\n",
            "Epoch 14/15\n",
            "\u001b[1m143/143\u001b[0m \u001b[32m━━━━━━━━━━━━━━━━━━━━\u001b[0m\u001b[37m\u001b[0m \u001b[1m1s\u001b[0m 10ms/step - accuracy: 0.3991 - loss: 1.6826\n",
            "Epoch 15/15\n",
            "\u001b[1m143/143\u001b[0m \u001b[32m━━━━━━━━━━━━━━━━━━━━\u001b[0m\u001b[37m\u001b[0m \u001b[1m3s\u001b[0m 10ms/step - accuracy: 0.3985 - loss: 1.6678\n",
            "\u001b[1m313/313\u001b[0m \u001b[32m━━━━━━━━━━━━━━━━━━━━\u001b[0m\u001b[37m\u001b[0m \u001b[1m1s\u001b[0m 2ms/step - accuracy: 0.3960 - loss: 1.6852\n",
            "\n",
            "Test accuracy: 0.3952000141143799\n"
          ]
        }
      ],
      "source": [
        "# Proceso Clasificación con Red Neuronal\n",
        "\n",
        "\n",
        "import pandas as pd\n",
        "from keras.models import Sequential\n",
        "from keras.layers import Dense\n",
        "\n",
        "model = Sequential()\n",
        "model.add(Dense(32, input_dim=x_train.shape[1], activation='relu'))\n",
        "model.add(Dense(64, activation='relu'))\n",
        "#en la última capa tiene que haber tantas neuronas como clases haya, en este caso 10\n",
        "model.add(Dense(10, activation='softmax'))\n",
        "\n",
        "#compilamos el modelo\n",
        "model.compile(loss='sparse_categorical_crossentropy',\n",
        "              optimizer='adam',\n",
        "              metrics=['accuracy'])\n",
        "\n",
        "size_batch = 350\n",
        "epocas = 15\n",
        "history = model.fit(x_train, y_train, batch_size= size_batch, epochs=epocas, verbose=1)\n",
        "# Evaluación del modelo\n",
        "test_loss, test_acc = model.evaluate(x_test, y_test, verbose=1)\n",
        "print('\\nTest accuracy:', test_acc)\n"
      ]
    },
    {
      "cell_type": "code",
      "execution_count": null,
      "metadata": {
        "colab": {
          "base_uri": "https://localhost:8080/",
          "height": 415
        },
        "id": "qRWELZDRgHzW",
        "outputId": "78fcee50-0b0c-4e46-b452-0c79bfbba3e2"
      },
      "outputs": [
        {
          "name": "stdout",
          "output_type": "stream",
          "text": [
            "\u001b[1m313/313\u001b[0m \u001b[32m━━━━━━━━━━━━━━━━━━━━\u001b[0m\u001b[37m\u001b[0m \u001b[1m1s\u001b[0m 2ms/step\n",
            "[1 8 8 ... 5 5 7]\n",
            "[3 8 8 ... 5 1 7]\n"
          ]
        },
        {
          "data": {
            "application/vnd.google.colaboratory.intrinsic+json": {
              "summary": "{\n  \"name\": \"dataframeFinal\",\n  \"rows\": 10000,\n  \"fields\": [\n    {\n      \"column\": \"real\",\n      \"properties\": {\n        \"dtype\": \"uint8\",\n        \"num_unique_values\": 10,\n        \"samples\": [\n          4,\n          8,\n          9\n        ],\n        \"semantic_type\": \"\",\n        \"description\": \"\"\n      }\n    },\n    {\n      \"column\": \"predicci\\u00f3n\",\n      \"properties\": {\n        \"dtype\": \"number\",\n        \"std\": 2,\n        \"min\": 0,\n        \"max\": 9,\n        \"num_unique_values\": 10,\n        \"samples\": [\n          5,\n          8,\n          3\n        ],\n        \"semantic_type\": \"\",\n        \"description\": \"\"\n      }\n    }\n  ]\n}",
              "type": "dataframe",
              "variable_name": "dataframeFinal"
            },
            "text/html": [
              "\n",
              "  <div id=\"df-a50e875a-ae5c-4489-b995-0f27e49675ff\" class=\"colab-df-container\">\n",
              "    <div>\n",
              "<style scoped>\n",
              "    .dataframe tbody tr th:only-of-type {\n",
              "        vertical-align: middle;\n",
              "    }\n",
              "\n",
              "    .dataframe tbody tr th {\n",
              "        vertical-align: top;\n",
              "    }\n",
              "\n",
              "    .dataframe thead th {\n",
              "        text-align: right;\n",
              "    }\n",
              "</style>\n",
              "<table border=\"1\" class=\"dataframe\">\n",
              "  <thead>\n",
              "    <tr style=\"text-align: right;\">\n",
              "      <th></th>\n",
              "      <th>real</th>\n",
              "      <th>predicción</th>\n",
              "    </tr>\n",
              "  </thead>\n",
              "  <tbody>\n",
              "    <tr>\n",
              "      <th>0</th>\n",
              "      <td>3</td>\n",
              "      <td>1</td>\n",
              "    </tr>\n",
              "    <tr>\n",
              "      <th>1</th>\n",
              "      <td>8</td>\n",
              "      <td>8</td>\n",
              "    </tr>\n",
              "    <tr>\n",
              "      <th>2</th>\n",
              "      <td>8</td>\n",
              "      <td>8</td>\n",
              "    </tr>\n",
              "    <tr>\n",
              "      <th>3</th>\n",
              "      <td>0</td>\n",
              "      <td>0</td>\n",
              "    </tr>\n",
              "    <tr>\n",
              "      <th>4</th>\n",
              "      <td>6</td>\n",
              "      <td>4</td>\n",
              "    </tr>\n",
              "    <tr>\n",
              "      <th>5</th>\n",
              "      <td>6</td>\n",
              "      <td>6</td>\n",
              "    </tr>\n",
              "    <tr>\n",
              "      <th>6</th>\n",
              "      <td>1</td>\n",
              "      <td>3</td>\n",
              "    </tr>\n",
              "    <tr>\n",
              "      <th>7</th>\n",
              "      <td>6</td>\n",
              "      <td>6</td>\n",
              "    </tr>\n",
              "    <tr>\n",
              "      <th>8</th>\n",
              "      <td>3</td>\n",
              "      <td>2</td>\n",
              "    </tr>\n",
              "    <tr>\n",
              "      <th>9</th>\n",
              "      <td>1</td>\n",
              "      <td>1</td>\n",
              "    </tr>\n",
              "  </tbody>\n",
              "</table>\n",
              "</div>\n",
              "    <div class=\"colab-df-buttons\">\n",
              "\n",
              "  <div class=\"colab-df-container\">\n",
              "    <button class=\"colab-df-convert\" onclick=\"convertToInteractive('df-a50e875a-ae5c-4489-b995-0f27e49675ff')\"\n",
              "            title=\"Convert this dataframe to an interactive table.\"\n",
              "            style=\"display:none;\">\n",
              "\n",
              "  <svg xmlns=\"http://www.w3.org/2000/svg\" height=\"24px\" viewBox=\"0 -960 960 960\">\n",
              "    <path d=\"M120-120v-720h720v720H120Zm60-500h600v-160H180v160Zm220 220h160v-160H400v160Zm0 220h160v-160H400v160ZM180-400h160v-160H180v160Zm440 0h160v-160H620v160ZM180-180h160v-160H180v160Zm440 0h160v-160H620v160Z\"/>\n",
              "  </svg>\n",
              "    </button>\n",
              "\n",
              "  <style>\n",
              "    .colab-df-container {\n",
              "      display:flex;\n",
              "      gap: 12px;\n",
              "    }\n",
              "\n",
              "    .colab-df-convert {\n",
              "      background-color: #E8F0FE;\n",
              "      border: none;\n",
              "      border-radius: 50%;\n",
              "      cursor: pointer;\n",
              "      display: none;\n",
              "      fill: #1967D2;\n",
              "      height: 32px;\n",
              "      padding: 0 0 0 0;\n",
              "      width: 32px;\n",
              "    }\n",
              "\n",
              "    .colab-df-convert:hover {\n",
              "      background-color: #E2EBFA;\n",
              "      box-shadow: 0px 1px 2px rgba(60, 64, 67, 0.3), 0px 1px 3px 1px rgba(60, 64, 67, 0.15);\n",
              "      fill: #174EA6;\n",
              "    }\n",
              "\n",
              "    .colab-df-buttons div {\n",
              "      margin-bottom: 4px;\n",
              "    }\n",
              "\n",
              "    [theme=dark] .colab-df-convert {\n",
              "      background-color: #3B4455;\n",
              "      fill: #D2E3FC;\n",
              "    }\n",
              "\n",
              "    [theme=dark] .colab-df-convert:hover {\n",
              "      background-color: #434B5C;\n",
              "      box-shadow: 0px 1px 3px 1px rgba(0, 0, 0, 0.15);\n",
              "      filter: drop-shadow(0px 1px 2px rgba(0, 0, 0, 0.3));\n",
              "      fill: #FFFFFF;\n",
              "    }\n",
              "  </style>\n",
              "\n",
              "    <script>\n",
              "      const buttonEl =\n",
              "        document.querySelector('#df-a50e875a-ae5c-4489-b995-0f27e49675ff button.colab-df-convert');\n",
              "      buttonEl.style.display =\n",
              "        google.colab.kernel.accessAllowed ? 'block' : 'none';\n",
              "\n",
              "      async function convertToInteractive(key) {\n",
              "        const element = document.querySelector('#df-a50e875a-ae5c-4489-b995-0f27e49675ff');\n",
              "        const dataTable =\n",
              "          await google.colab.kernel.invokeFunction('convertToInteractive',\n",
              "                                                    [key], {});\n",
              "        if (!dataTable) return;\n",
              "\n",
              "        const docLinkHtml = 'Like what you see? Visit the ' +\n",
              "          '<a target=\"_blank\" href=https://colab.research.google.com/notebooks/data_table.ipynb>data table notebook</a>'\n",
              "          + ' to learn more about interactive tables.';\n",
              "        element.innerHTML = '';\n",
              "        dataTable['output_type'] = 'display_data';\n",
              "        await google.colab.output.renderOutput(dataTable, element);\n",
              "        const docLink = document.createElement('div');\n",
              "        docLink.innerHTML = docLinkHtml;\n",
              "        element.appendChild(docLink);\n",
              "      }\n",
              "    </script>\n",
              "  </div>\n",
              "\n",
              "\n",
              "<div id=\"df-ccc29c35-607e-4a24-9923-2968d3b3020d\">\n",
              "  <button class=\"colab-df-quickchart\" onclick=\"quickchart('df-ccc29c35-607e-4a24-9923-2968d3b3020d')\"\n",
              "            title=\"Suggest charts\"\n",
              "            style=\"display:none;\">\n",
              "\n",
              "<svg xmlns=\"http://www.w3.org/2000/svg\" height=\"24px\"viewBox=\"0 0 24 24\"\n",
              "     width=\"24px\">\n",
              "    <g>\n",
              "        <path d=\"M19 3H5c-1.1 0-2 .9-2 2v14c0 1.1.9 2 2 2h14c1.1 0 2-.9 2-2V5c0-1.1-.9-2-2-2zM9 17H7v-7h2v7zm4 0h-2V7h2v10zm4 0h-2v-4h2v4z\"/>\n",
              "    </g>\n",
              "</svg>\n",
              "  </button>\n",
              "\n",
              "<style>\n",
              "  .colab-df-quickchart {\n",
              "      --bg-color: #E8F0FE;\n",
              "      --fill-color: #1967D2;\n",
              "      --hover-bg-color: #E2EBFA;\n",
              "      --hover-fill-color: #174EA6;\n",
              "      --disabled-fill-color: #AAA;\n",
              "      --disabled-bg-color: #DDD;\n",
              "  }\n",
              "\n",
              "  [theme=dark] .colab-df-quickchart {\n",
              "      --bg-color: #3B4455;\n",
              "      --fill-color: #D2E3FC;\n",
              "      --hover-bg-color: #434B5C;\n",
              "      --hover-fill-color: #FFFFFF;\n",
              "      --disabled-bg-color: #3B4455;\n",
              "      --disabled-fill-color: #666;\n",
              "  }\n",
              "\n",
              "  .colab-df-quickchart {\n",
              "    background-color: var(--bg-color);\n",
              "    border: none;\n",
              "    border-radius: 50%;\n",
              "    cursor: pointer;\n",
              "    display: none;\n",
              "    fill: var(--fill-color);\n",
              "    height: 32px;\n",
              "    padding: 0;\n",
              "    width: 32px;\n",
              "  }\n",
              "\n",
              "  .colab-df-quickchart:hover {\n",
              "    background-color: var(--hover-bg-color);\n",
              "    box-shadow: 0 1px 2px rgba(60, 64, 67, 0.3), 0 1px 3px 1px rgba(60, 64, 67, 0.15);\n",
              "    fill: var(--button-hover-fill-color);\n",
              "  }\n",
              "\n",
              "  .colab-df-quickchart-complete:disabled,\n",
              "  .colab-df-quickchart-complete:disabled:hover {\n",
              "    background-color: var(--disabled-bg-color);\n",
              "    fill: var(--disabled-fill-color);\n",
              "    box-shadow: none;\n",
              "  }\n",
              "\n",
              "  .colab-df-spinner {\n",
              "    border: 2px solid var(--fill-color);\n",
              "    border-color: transparent;\n",
              "    border-bottom-color: var(--fill-color);\n",
              "    animation:\n",
              "      spin 1s steps(1) infinite;\n",
              "  }\n",
              "\n",
              "  @keyframes spin {\n",
              "    0% {\n",
              "      border-color: transparent;\n",
              "      border-bottom-color: var(--fill-color);\n",
              "      border-left-color: var(--fill-color);\n",
              "    }\n",
              "    20% {\n",
              "      border-color: transparent;\n",
              "      border-left-color: var(--fill-color);\n",
              "      border-top-color: var(--fill-color);\n",
              "    }\n",
              "    30% {\n",
              "      border-color: transparent;\n",
              "      border-left-color: var(--fill-color);\n",
              "      border-top-color: var(--fill-color);\n",
              "      border-right-color: var(--fill-color);\n",
              "    }\n",
              "    40% {\n",
              "      border-color: transparent;\n",
              "      border-right-color: var(--fill-color);\n",
              "      border-top-color: var(--fill-color);\n",
              "    }\n",
              "    60% {\n",
              "      border-color: transparent;\n",
              "      border-right-color: var(--fill-color);\n",
              "    }\n",
              "    80% {\n",
              "      border-color: transparent;\n",
              "      border-right-color: var(--fill-color);\n",
              "      border-bottom-color: var(--fill-color);\n",
              "    }\n",
              "    90% {\n",
              "      border-color: transparent;\n",
              "      border-bottom-color: var(--fill-color);\n",
              "    }\n",
              "  }\n",
              "</style>\n",
              "\n",
              "  <script>\n",
              "    async function quickchart(key) {\n",
              "      const quickchartButtonEl =\n",
              "        document.querySelector('#' + key + ' button');\n",
              "      quickchartButtonEl.disabled = true;  // To prevent multiple clicks.\n",
              "      quickchartButtonEl.classList.add('colab-df-spinner');\n",
              "      try {\n",
              "        const charts = await google.colab.kernel.invokeFunction(\n",
              "            'suggestCharts', [key], {});\n",
              "      } catch (error) {\n",
              "        console.error('Error during call to suggestCharts:', error);\n",
              "      }\n",
              "      quickchartButtonEl.classList.remove('colab-df-spinner');\n",
              "      quickchartButtonEl.classList.add('colab-df-quickchart-complete');\n",
              "    }\n",
              "    (() => {\n",
              "      let quickchartButtonEl =\n",
              "        document.querySelector('#df-ccc29c35-607e-4a24-9923-2968d3b3020d button');\n",
              "      quickchartButtonEl.style.display =\n",
              "        google.colab.kernel.accessAllowed ? 'block' : 'none';\n",
              "    })();\n",
              "  </script>\n",
              "</div>\n",
              "\n",
              "    </div>\n",
              "  </div>\n"
            ],
            "text/plain": [
              "   real  predicción\n",
              "0     3           1\n",
              "1     8           8\n",
              "2     8           8\n",
              "3     0           0\n",
              "4     6           4\n",
              "5     6           6\n",
              "6     1           3\n",
              "7     6           6\n",
              "8     3           2\n",
              "9     1           1"
            ]
          },
          "execution_count": 23,
          "metadata": {},
          "output_type": "execute_result"
        }
      ],
      "source": [
        "#Predicciones\n",
        "y_pred = model.predict(x_test)\n",
        "y_pred = np.argmax(y_pred, axis=-1)\n",
        "y_pred = y_pred.flatten()\n",
        "y_test2 = y_test.flatten()\n",
        "print(y_pred)\n",
        "print(y_test2)\n",
        "dataframeFinal=pd.DataFrame({'real':y_test2, 'predicción': y_pred})\n",
        "np.set_printoptions(formatter={'float': lambda X: \"{0:0.0f}\".format(X)})\n",
        "dataframeFinal.head(10)"
      ]
    },
    {
      "cell_type": "code",
      "execution_count": null,
      "metadata": {
        "colab": {
          "base_uri": "https://localhost:8080/",
          "height": 1000
        },
        "id": "DWBGseEulgQn",
        "outputId": "c088a7e6-0fa7-4a49-b8be-6940588b48bb"
      },
      "outputs": [
        {
          "name": "stdout",
          "output_type": "stream",
          "text": [
            "Mean Absolute Error (MAE): 2.0796\n",
            "Mean Squared Error (MSE): 10.8354\n",
            "Root Mean Squared Error (RMSE): 3.2917\n",
            "Accuracy: 0.4256\n",
            "Precision:  0.4215\n",
            "Recall:  0.4256\n",
            "F1: 0.4194\n"
          ]
        },
        {
          "data": {
            "image/png": "[encoded data removed]",
            "text/plain": [
              "<Figure size 1500x1000 with 2 Axes>"
            ]
          },
          "metadata": {},
          "output_type": "display_data"
        }
      ],
      "source": [
        "from sklearn.metrics import confusion_matrix\n",
        "import seaborn as sns\n",
        "from sklearn import metrics\n",
        "from sklearn.metrics import accuracy_score\n",
        "from sklearn.metrics import precision_score\n",
        "from sklearn.metrics import recall_score\n",
        "from sklearn.metrics import f1_score\n",
        "from matplotlib import*\n",
        "from matplotlib.cm import register_cmap\n",
        "import matplotlib.pyplot as plt\n",
        "\n",
        "MAE=metrics.mean_absolute_error(y_test2, y_pred)\n",
        "MSE=metrics.mean_squared_error(y_test2, y_pred)\n",
        "RMSE=np.sqrt(metrics.mean_squared_error(y_test2, y_pred))\n",
        "\n",
        "MAE=str(round(MAE, 4))\n",
        "MSE=str(round(MSE, 4))\n",
        "RMSE=str(round(RMSE, 4))\n",
        "\n",
        "print('Mean Absolute Error (MAE):', MAE)\n",
        "print('Mean Squared Error (MSE):', MSE)\n",
        "print('Root Mean Squared Error (RMSE):', RMSE)\n",
        "\n",
        "accuracyModeloBase=str(accuracy_score(y_test2,y_pred))\n",
        "print('Accuracy: ' + accuracyModeloBase)\n",
        "\n",
        "precision=precision_score(y_test2,y_pred, average='weighted')#average one of [None, 'micro', 'macro', 'weighted']\n",
        "precision=str(round(precision, 4))\n",
        "print('Precision: ',precision)\n",
        "\n",
        "recall=recall_score(y_test2,y_pred, average='weighted')\n",
        "recall=str(round(recall, 4))\n",
        "print('Recall: ',recall)\n",
        "\n",
        "f1=f1_score(y_test2,y_pred, average='weighted')\n",
        "f1=str(round(f1, 4))\n",
        "print('F1:',f1)\n",
        "\n",
        "\n",
        "plt.figure(figsize=(15,10))\n",
        "fx=sns.heatmap(confusion_matrix(y_test2,y_pred), annot=True, fmt=\".2f\",cmap=\"GnBu\")\n",
        "fx.set_title('Confusion Matrix \\n');\n",
        "fx.set_xlabel('\\n Valores de predicción\\n')\n",
        "fx.set_ylabel('Valores reales\\n');\n",
        "fx.xaxis.set_ticklabels(_load_label_names())\n",
        "fx.yaxis.set_ticklabels(_load_label_names())\n",
        "plt.show()"
      ]
    },
    {
      "cell_type": "code",
      "execution_count": null,
      "metadata": {
        "colab": {
          "base_uri": "https://localhost:8080/"
        },
        "id": "UCJG-qPp2wGu",
        "outputId": "45993880-ca48-4d78-cba3-6aff6018ec66"
      },
      "outputs": [
        {
          "name": "stderr",
          "output_type": "stream",
          "text": [
            "WARNING:absl:You are saving your model as an HDF5 file via `model.save()` or `keras.saving.save_model(model)`. This file format is considered legacy. We recommend using instead the native Keras format, e.g. `model.save('my_model.keras')` or `keras.saving.save_model(model, 'my_model.keras')`. \n"
          ]
        },
        {
          "name": "stdout",
          "output_type": "stream",
          "text": [
            "Guardando Red Neuronal en Archivo\n",
            "Red Neuronal Grabada en Archivo\n",
            "Modelo Base Guardado\n"
          ]
        }
      ],
      "source": [
        "guardarNN(model,'modeloRedNeuronalBase')\n",
        "print('Modelo Base Guardado')"
      ]
    },
    {
      "cell_type": "markdown",
      "metadata": {
        "id": "0zgJ3E0f7kt2"
      },
      "source": [
        "**Optimización del modelo de red neuronal (Fine Tuning)**"
      ]
    },
    {
      "cell_type": "markdown",
      "metadata": {
        "id": "nukfapz07o84"
      },
      "source": [
        "*Optimización – Paso 1. Parámetros de compilación*"
      ]
    },
    {
      "cell_type": "code",
      "execution_count": null,
      "metadata": {
        "id": "690EJZBHBq7o"
      },
      "outputs": [],
      "source": [
        "#Función para convertir el tiempo de segundos al formato de días, horas, minutos y segundos.\n",
        "def GetTime(gs_time):\n",
        "    sec=timedelta(seconds=gs_time)\n",
        "    d = datetime(1,1,1) + sec\n",
        "    tiempoTotal=(\"%d días: %d horas: %d min: %d seg\" % (d.day-1, d.hour, d.minute, d.second))\n",
        "    return tiempoTotal"
      ]
    },
    {
      "cell_type": "code",
      "execution_count": null,
      "metadata": {
        "colab": {
          "background_save": true,
          "base_uri": "https://localhost:8080/"
        },
        "id": "D1VqGJsEVSEO",
        "outputId": "121c00e1-5bac-458a-d805-dde5ee8dc8af"
      },
      "outputs": [
        {
          "name": "stderr",
          "output_type": "stream",
          "text": [
            "/usr/local/lib/python3.10/dist-packages/joblib/externals/loky/process_executor.py:752: UserWarning: A worker stopped while some jobs were given to the executor. This can be caused by a too short worker timeout or by a memory leak.\n",
            "  warnings.warn(\n",
            "/usr/local/lib/python3.10/dist-packages/joblib/externals/loky/backend/fork_exec.py:38: RuntimeWarning: os.fork() was called. os.fork() is incompatible with multithreaded code, and JAX is multithreaded, so this will likely lead to a deadlock.\n",
            "  pid = os.fork()\n",
            "/usr/local/lib/python3.10/dist-packages/keras/src/layers/core/dense.py:87: UserWarning: Do not pass an `input_shape`/`input_dim` argument to a layer. When using Sequential models, prefer using an `Input(shape)` object as the first layer in the model instead.\n",
            "  super().__init__(activity_regularizer=activity_regularizer, **kwargs)\n"
          ]
        },
        {
          "name": "stdout",
          "output_type": "stream",
          "text": [
            "Epoch 1/20\n",
            "\u001b[1m167/167\u001b[0m \u001b[32m━━━━━━━━━━━━━━━━━━━━\u001b[0m\u001b[37m\u001b[0m \u001b[1m2s\u001b[0m 9ms/step - accuracy: 0.1748 - loss: 2.2599\n",
            "Epoch 2/20\n",
            "\u001b[1m167/167\u001b[0m \u001b[32m━━━━━━━━━━━━━━━━━━━━\u001b[0m\u001b[37m\u001b[0m \u001b[1m2s\u001b[0m 9ms/step - accuracy: 0.2811 - loss: 1.9677\n",
            "Epoch 3/20\n",
            "\u001b[1m167/167\u001b[0m \u001b[32m━━━━━━━━━━━━━━━━━━━━\u001b[0m\u001b[37m\u001b[0m \u001b[1m3s\u001b[0m 10ms/step - accuracy: 0.3178 - loss: 1.8909\n",
            "Epoch 4/20\n",
            "\u001b[1m167/167\u001b[0m \u001b[32m━━━━━━━━━━━━━━━━━━━━\u001b[0m\u001b[37m\u001b[0m \u001b[1m2s\u001b[0m 9ms/step - accuracy: 0.3383 - loss: 1.8406\n",
            "Epoch 5/20\n",
            "\u001b[1m167/167\u001b[0m \u001b[32m━━━━━━━━━━━━━━━━━━━━\u001b[0m\u001b[37m\u001b[0m \u001b[1m3s\u001b[0m 13ms/step - accuracy: 0.3521 - loss: 1.8150\n",
            "Epoch 6/20\n",
            "\u001b[1m167/167\u001b[0m \u001b[32m━━━━━━━━━━━━━━━━━━━━\u001b[0m\u001b[37m\u001b[0m \u001b[1m2s\u001b[0m 9ms/step - accuracy: 0.3619 - loss: 1.7801\n",
            "Epoch 7/20\n",
            "\u001b[1m167/167\u001b[0m \u001b[32m━━━━━━━━━━━━━━━━━━━━\u001b[0m\u001b[37m\u001b[0m \u001b[1m3s\u001b[0m 9ms/step - accuracy: 0.3666 - loss: 1.7561\n",
            "Epoch 8/20\n",
            "\u001b[1m167/167\u001b[0m \u001b[32m━━━━━━━━━━━━━━━━━━━━\u001b[0m\u001b[37m\u001b[0m \u001b[1m3s\u001b[0m 9ms/step - accuracy: 0.3790 - loss: 1.7348\n",
            "Epoch 9/20\n",
            "\u001b[1m167/167\u001b[0m \u001b[32m━━━━━━━━━━━━━━━━━━━━\u001b[0m\u001b[37m\u001b[0m \u001b[1m3s\u001b[0m 10ms/step - accuracy: 0.3862 - loss: 1.7168\n",
            "Epoch 10/20\n",
            "\u001b[1m167/167\u001b[0m \u001b[32m━━━━━━━━━━━━━━━━━━━━\u001b[0m\u001b[37m\u001b[0m \u001b[1m3s\u001b[0m 12ms/step - accuracy: 0.3909 - loss: 1.7018\n",
            "Epoch 11/20\n",
            "\u001b[1m167/167\u001b[0m \u001b[32m━━━━━━━━━━━━━━━━━━━━\u001b[0m\u001b[37m\u001b[0m \u001b[1m2s\u001b[0m 10ms/step - accuracy: 0.3971 - loss: 1.6935\n",
            "Epoch 12/20\n",
            "\u001b[1m167/167\u001b[0m \u001b[32m━━━━━━━━━━━━━━━━━━━━\u001b[0m\u001b[37m\u001b[0m \u001b[1m3s\u001b[0m 9ms/step - accuracy: 0.3971 - loss: 1.6893\n",
            "Epoch 13/20\n",
            "\u001b[1m167/167\u001b[0m \u001b[32m━━━━━━━━━━━━━━━━━━━━\u001b[0m\u001b[37m\u001b[0m \u001b[1m3s\u001b[0m 13ms/step - accuracy: 0.3988 - loss: 1.6794\n",
            "Epoch 14/20\n",
            "\u001b[1m167/167\u001b[0m \u001b[32m━━━━━━━━━━━━━━━━━━━━\u001b[0m\u001b[37m\u001b[0m \u001b[1m2s\u001b[0m 11ms/step - accuracy: 0.4013 - loss: 1.6717\n",
            "Epoch 15/20\n",
            "\u001b[1m167/167\u001b[0m \u001b[32m━━━━━━━━━━━━━━━━━━━━\u001b[0m\u001b[37m\u001b[0m \u001b[1m3s\u001b[0m 11ms/step - accuracy: 0.4105 - loss: 1.6564\n",
            "Epoch 16/20\n",
            "\u001b[1m167/167\u001b[0m \u001b[32m━━━━━━━━━━━━━━━━━━━━\u001b[0m\u001b[37m\u001b[0m \u001b[1m2s\u001b[0m 9ms/step - accuracy: 0.4108 - loss: 1.6439\n",
            "Epoch 17/20\n",
            "\u001b[1m167/167\u001b[0m \u001b[32m━━━━━━━━━━━━━━━━━━━━\u001b[0m\u001b[37m\u001b[0m \u001b[1m2s\u001b[0m 9ms/step - accuracy: 0.4134 - loss: 1.6414\n",
            "Epoch 18/20\n",
            "\u001b[1m167/167\u001b[0m \u001b[32m━━━━━━━━━━━━━━━━━━━━\u001b[0m\u001b[37m\u001b[0m \u001b[1m3s\u001b[0m 10ms/step - accuracy: 0.4185 - loss: 1.6215\n",
            "Epoch 19/20\n",
            "\u001b[1m167/167\u001b[0m \u001b[32m━━━━━━━━━━━━━━━━━━━━\u001b[0m\u001b[37m\u001b[0m \u001b[1m2s\u001b[0m 9ms/step - accuracy: 0.4168 - loss: 1.6264\n",
            "Epoch 20/20\n",
            "\u001b[1m167/167\u001b[0m \u001b[32m━━━━━━━━━━━━━━━━━━━━\u001b[0m\u001b[37m\u001b[0m \u001b[1m3s\u001b[0m 12ms/step - accuracy: 0.4280 - loss: 1.6098\n",
            "{'batch_size': 300, 'epochs': 20, 'optimizer': 'Adam'}\n",
            "Tiempo en segundos:  1061.748792886734\n",
            "Tiempo:  0 días: 0 horas: 17 min: 41 seg\n"
          ]
        }
      ],
      "source": [
        "import time\n",
        "\n",
        "# Define la función que construye el modelo\n",
        "def build_model():\n",
        "    model = Sequential()\n",
        "    model.add(Dense(32, input_dim=x_train.shape[1], activation='relu'))\n",
        "    model.add(Dense(64, activation='relu'))\n",
        "    model.add(Dense(10, activation='softmax'))\n",
        "    model.compile(loss='sparse_categorical_crossentropy', metrics=['accuracy'])\n",
        "    return model\n",
        "\n",
        "# Define los valores que deseas probar para los parámetros\n",
        "batch_size = [100, 250, 300]\n",
        "epochs = [10, 15, 20]\n",
        "optimizer = ['Adam', 'SGD', 'Adagrad']\n",
        "\n",
        "# Define el diccionario de parámetros\n",
        "parameters = {\n",
        "    'batch_size': batch_size,\n",
        "    'epochs': epochs,\n",
        "    'optimizer': optimizer\n",
        "}\n",
        "\n",
        "# Crea un estimador KerasClassifier\n",
        "estimator = KerasClassifier(model=build_model, verbose=1)\n",
        "\n",
        "# Ajusta el GridSearchCV con los datos de entrada\n",
        "tic = time.time()\n",
        "\n",
        "# Crea una instancia de GridSearchCV\n",
        "grid_search = GridSearchCV(estimator=estimator, param_grid=parameters, scoring='accuracy', cv=2, n_jobs=-1, error_score='raise')\n",
        "grid_result = grid_search.fit(x_train, y_train)  # Asegúrate de reemplazar x_train e y_train con tus datos reales\n",
        "\n",
        "# Imprime los mejores parámetros encontrados\n",
        "print(grid_result.best_params_)\n",
        "\n",
        "\n",
        "gs_time = time.time() - tic\n",
        "print('Tiempo en segundos: ',gs_time)\n",
        "\n",
        "tiempoTotal=GetTime(gs_time)\n",
        "print('Tiempo: ',tiempoTotal)\n",
        "\n",
        "gs1=grid_result\n"
      ]
    },
    {
      "cell_type": "code",
      "execution_count": null,
      "metadata": {
        "colab": {
          "base_uri": "https://localhost:8080/"
        },
        "id": "GDVjxBNaC2eF",
        "outputId": "7439cfdd-6edd-4668-bdb2-9f1ee82c84e6"
      },
      "outputs": [
        {
          "data": {
            "text/plain": [
              "dict_keys(['model', 'build_fn', 'warm_start', 'random_state', 'optimizer', 'loss', 'metrics', 'batch_size', 'validation_batch_size', 'verbose', 'callbacks', 'validation_split', 'shuffle', 'run_eagerly', 'epochs', 'class_weight'])"
            ]
          },
          "execution_count": 34,
          "metadata": {},
          "output_type": "execute_result"
        }
      ],
      "source": [
        "estimator.get_params().keys()"
      ]
    },
    {
      "cell_type": "code",
      "execution_count": null,
      "metadata": {
        "colab": {
          "base_uri": "https://localhost:8080/"
        },
        "id": "tdQdP-xeDaKf",
        "outputId": "2df4ad77-5827-4e44-fa38-59b858d2c28a"
      },
      "outputs": [
        {
          "name": "stdout",
          "output_type": "stream",
          "text": [
            "Best: 0.387320 using {'batch_size': 300, 'epochs': 20, 'optimizer': 'Adam'}\n"
          ]
        }
      ],
      "source": [
        "print(\"Best: %f using %s\" % (gs1.best_score_, gs1.best_params_))"
      ]
    },
    {
      "cell_type": "code",
      "execution_count": null,
      "metadata": {
        "colab": {
          "base_uri": "https://localhost:8080/"
        },
        "id": "bs3utN4ZDa4H",
        "outputId": "c524cc94-3566-40f9-c30c-64f1736c8710"
      },
      "outputs": [
        {
          "name": "stdout",
          "output_type": "stream",
          "text": [
            "0.354060 (0.003620) with: {'batch_size': 100, 'epochs': 10, 'optimizer': 'Adam'}\n",
            "0.346700 (0.036500) with: {'batch_size': 100, 'epochs': 10, 'optimizer': 'SGD'}\n",
            "0.368860 (0.019940) with: {'batch_size': 100, 'epochs': 10, 'optimizer': 'Adagrad'}\n",
            "0.356580 (0.004180) with: {'batch_size': 100, 'epochs': 15, 'optimizer': 'Adam'}\n",
            "0.363080 (0.038880) with: {'batch_size': 100, 'epochs': 15, 'optimizer': 'SGD'}\n",
            "0.371060 (0.037940) with: {'batch_size': 100, 'epochs': 15, 'optimizer': 'Adagrad'}\n",
            "0.323560 (0.029040) with: {'batch_size': 100, 'epochs': 20, 'optimizer': 'Adam'}\n",
            "0.357560 (0.044560) with: {'batch_size': 100, 'epochs': 20, 'optimizer': 'SGD'}\n",
            "0.323360 (0.008120) with: {'batch_size': 100, 'epochs': 20, 'optimizer': 'Adagrad'}\n",
            "0.355540 (0.002780) with: {'batch_size': 250, 'epochs': 10, 'optimizer': 'Adam'}\n",
            "0.351080 (0.010600) with: {'batch_size': 250, 'epochs': 10, 'optimizer': 'SGD'}\n",
            "0.352180 (0.025260) with: {'batch_size': 250, 'epochs': 10, 'optimizer': 'Adagrad'}\n",
            "0.368620 (0.011980) with: {'batch_size': 250, 'epochs': 15, 'optimizer': 'Adam'}\n",
            "0.360580 (0.005380) with: {'batch_size': 250, 'epochs': 15, 'optimizer': 'SGD'}\n",
            "0.379120 (0.004080) with: {'batch_size': 250, 'epochs': 15, 'optimizer': 'Adagrad'}\n",
            "0.385040 (0.024880) with: {'batch_size': 250, 'epochs': 20, 'optimizer': 'Adam'}\n",
            "0.383600 (0.006240) with: {'batch_size': 250, 'epochs': 20, 'optimizer': 'SGD'}\n",
            "0.386380 (0.011100) with: {'batch_size': 250, 'epochs': 20, 'optimizer': 'Adagrad'}\n",
            "0.320140 (0.003900) with: {'batch_size': 300, 'epochs': 10, 'optimizer': 'Adam'}\n",
            "0.338880 (0.003160) with: {'batch_size': 300, 'epochs': 10, 'optimizer': 'SGD'}\n",
            "0.344460 (0.012380) with: {'batch_size': 300, 'epochs': 10, 'optimizer': 'Adagrad'}\n",
            "0.344140 (0.002740) with: {'batch_size': 300, 'epochs': 15, 'optimizer': 'Adam'}\n",
            "0.354680 (0.000800) with: {'batch_size': 300, 'epochs': 15, 'optimizer': 'SGD'}\n",
            "0.363680 (0.001920) with: {'batch_size': 300, 'epochs': 15, 'optimizer': 'Adagrad'}\n",
            "0.387320 (0.010440) with: {'batch_size': 300, 'epochs': 20, 'optimizer': 'Adam'}\n",
            "0.336320 (0.053320) with: {'batch_size': 300, 'epochs': 20, 'optimizer': 'SGD'}\n",
            "0.339720 (0.004680) with: {'batch_size': 300, 'epochs': 20, 'optimizer': 'Adagrad'}\n"
          ]
        }
      ],
      "source": [
        "means = gs1.cv_results_['mean_test_score']\n",
        "stds = gs1.cv_results_['std_test_score']\n",
        "params = gs1.cv_results_['params']\n",
        "for mean, stdev, param in zip(means, stds, params):\n",
        "    print(\"%f (%f) with: %r\" % (mean, stdev, param))"
      ]
    },
    {
      "cell_type": "markdown",
      "metadata": {
        "id": "5ms5K5ij7uKJ"
      },
      "source": [
        "*Optimización – Paso 2. Densidad de las capas de neuronas y regularización de Dropout*\n"
      ]
    },
    {
      "cell_type": "code",
      "execution_count": null,
      "metadata": {
        "colab": {
          "base_uri": "https://localhost:8080/"
        },
        "id": "uGPgpIWCeqQj",
        "outputId": "339f6a9c-e04b-4040-b3dd-1d1f3783cc5e"
      },
      "outputs": [
        {
          "name": "stderr",
          "output_type": "stream",
          "text": [
            "/usr/local/lib/python3.10/dist-packages/joblib/externals/loky/backend/fork_exec.py:38: RuntimeWarning: os.fork() was called. os.fork() is incompatible with multithreaded code, and JAX is multithreaded, so this will likely lead to a deadlock.\n",
            "  pid = os.fork()\n",
            "/usr/local/lib/python3.10/dist-packages/joblib/externals/loky/process_executor.py:752: UserWarning: A worker stopped while some jobs were given to the executor. This can be caused by a too short worker timeout or by a memory leak.\n",
            "  warnings.warn(\n",
            "/usr/local/lib/python3.10/dist-packages/scikeras/wrappers.py:925: UserWarning: ``build_fn`` will be renamed to ``model`` in a future release, at which point use of ``build_fn`` will raise an Error instead.\n",
            "  X, y = self._initialize(X, y)\n",
            "/usr/local/lib/python3.10/dist-packages/keras/src/layers/core/dense.py:87: UserWarning: Do not pass an `input_shape`/`input_dim` argument to a layer. When using Sequential models, prefer using an `Input(shape)` object as the first layer in the model instead.\n",
            "  super().__init__(activity_regularizer=activity_regularizer, **kwargs)\n"
          ]
        },
        {
          "name": "stdout",
          "output_type": "stream",
          "text": [
            "Tiempo en segundos: 1780.4308030605316\n",
            "Tiempo:  0 días: 0 horas: 29 min: 40 seg\n"
          ]
        }
      ],
      "source": [
        "from time import time as t\n",
        "\n",
        "# Define la función para construir el modelo\n",
        "def build_model(l1, l2, dr):\n",
        "    model = Sequential()\n",
        "    model.add(Dense(l1, input_shape=(x_train.shape[1],), activation='relu'))\n",
        "    model.add(Dropout(dr))\n",
        "    model.add(Dense(l2, activation='relu'))\n",
        "    model.add(Dropout(dr))\n",
        "    model.add(Dense(10, activation='softmax'))\n",
        "    model.compile(loss='sparse_categorical_crossentropy', optimizer='Adam', metrics=['acc'])\n",
        "    return model\n",
        "\n",
        "l1 = [16, 32, 64]\n",
        "l2 = [16, 32, 64]\n",
        "dr = [0, 0.2, 0.35, 0.5]\n",
        "\n",
        "# Define los parámetros que deseas buscar\n",
        "parameters = {\n",
        "    'model__l1': l1,\n",
        "    'model__l2': l2,\n",
        "    'model__dr': dr\n",
        "}\n",
        "\n",
        "# Crea una instancia de KerasClassifier utilizando tu función de construcción de modelo\n",
        "estimator = KerasClassifier(build_fn=build_model, verbose=0, batch_size=300, epochs=20)\n",
        "\n",
        "tic = t()\n",
        "\n",
        "# Realiza la búsqueda de cuadrícula\n",
        "grid_search = GridSearchCV(estimator=estimator, param_grid=parameters, scoring='accuracy', cv=2, n_jobs=-1)\n",
        "grid_result = grid_search.fit(x_train, y_train)\n",
        "\n",
        "gs_time1 = t() - tic\n",
        "print('Tiempo en segundos:', gs_time1)\n",
        "tiempoTotal=GetTime(gs_time1)\n",
        "print('Tiempo: ',tiempoTotal)\n",
        "\n",
        "gs2=grid_result"
      ]
    },
    {
      "cell_type": "code",
      "execution_count": null,
      "metadata": {
        "colab": {
          "base_uri": "https://localhost:8080/"
        },
        "id": "FAtfy42KhXwD",
        "outputId": "994fe451-3418-4044-bbd0-bb7cf40f0070"
      },
      "outputs": [
        {
          "name": "stdout",
          "output_type": "stream",
          "text": [
            "Best: 0.428500 using {'model__dr': 0, 'model__l1': 64, 'model__l2': 64}\n"
          ]
        }
      ],
      "source": [
        "print(\"Best: %f using %s\" % (gs2.best_score_, gs2.best_params_))"
      ]
    },
    {
      "cell_type": "code",
      "execution_count": null,
      "metadata": {
        "colab": {
          "base_uri": "https://localhost:8080/"
        },
        "id": "zkVtuIHUhZVM",
        "outputId": "d68d05ca-fdb0-4113-da50-4e19849b3e31"
      },
      "outputs": [
        {
          "name": "stdout",
          "output_type": "stream",
          "text": [
            "0.227200 (0.127200) with: {'model__dr': 0, 'model__l1': 16, 'model__l2': 16}\n",
            "0.260640 (0.003320) with: {'model__dr': 0, 'model__l1': 16, 'model__l2': 32}\n",
            "0.346480 (0.004360) with: {'model__dr': 0, 'model__l1': 16, 'model__l2': 64}\n",
            "0.379220 (0.003220) with: {'model__dr': 0, 'model__l1': 32, 'model__l2': 16}\n",
            "0.350400 (0.041440) with: {'model__dr': 0, 'model__l1': 32, 'model__l2': 32}\n",
            "0.402860 (0.016820) with: {'model__dr': 0, 'model__l1': 32, 'model__l2': 64}\n",
            "0.393660 (0.009660) with: {'model__dr': 0, 'model__l1': 64, 'model__l2': 16}\n",
            "0.410520 (0.004240) with: {'model__dr': 0, 'model__l1': 64, 'model__l2': 32}\n",
            "0.428500 (0.005220) with: {'model__dr': 0, 'model__l1': 64, 'model__l2': 64}\n",
            "0.189140 (0.001980) with: {'model__dr': 0.2, 'model__l1': 16, 'model__l2': 16}\n",
            "0.144440 (0.044440) with: {'model__dr': 0.2, 'model__l1': 16, 'model__l2': 32}\n",
            "0.249280 (0.058480) with: {'model__dr': 0.2, 'model__l1': 16, 'model__l2': 64}\n",
            "0.282200 (0.036840) with: {'model__dr': 0.2, 'model__l1': 32, 'model__l2': 16}\n",
            "0.239020 (0.060100) with: {'model__dr': 0.2, 'model__l1': 32, 'model__l2': 32}\n",
            "0.291540 (0.003300) with: {'model__dr': 0.2, 'model__l1': 32, 'model__l2': 64}\n",
            "0.364040 (0.009560) with: {'model__dr': 0.2, 'model__l1': 64, 'model__l2': 16}\n",
            "0.379400 (0.012720) with: {'model__dr': 0.2, 'model__l1': 64, 'model__l2': 32}\n",
            "0.384000 (0.004040) with: {'model__dr': 0.2, 'model__l1': 64, 'model__l2': 64}\n",
            "0.132440 (0.032440) with: {'model__dr': 0.35, 'model__l1': 16, 'model__l2': 16}\n",
            "0.157900 (0.057900) with: {'model__dr': 0.35, 'model__l1': 16, 'model__l2': 32}\n",
            "0.189040 (0.009640) with: {'model__dr': 0.35, 'model__l1': 16, 'model__l2': 64}\n",
            "0.194140 (0.019980) with: {'model__dr': 0.35, 'model__l1': 32, 'model__l2': 16}\n",
            "0.142100 (0.042100) with: {'model__dr': 0.35, 'model__l1': 32, 'model__l2': 32}\n",
            "0.139880 (0.039880) with: {'model__dr': 0.35, 'model__l1': 32, 'model__l2': 64}\n",
            "0.287480 (0.004960) with: {'model__dr': 0.35, 'model__l1': 64, 'model__l2': 16}\n",
            "0.257000 (0.003280) with: {'model__dr': 0.35, 'model__l1': 64, 'model__l2': 32}\n",
            "0.308440 (0.019600) with: {'model__dr': 0.35, 'model__l1': 64, 'model__l2': 64}\n",
            "0.100000 (0.000000) with: {'model__dr': 0.5, 'model__l1': 16, 'model__l2': 16}\n",
            "0.100000 (0.000000) with: {'model__dr': 0.5, 'model__l1': 16, 'model__l2': 32}\n",
            "0.100000 (0.000000) with: {'model__dr': 0.5, 'model__l1': 16, 'model__l2': 64}\n",
            "0.140920 (0.040920) with: {'model__dr': 0.5, 'model__l1': 32, 'model__l2': 16}\n",
            "0.176900 (0.006580) with: {'model__dr': 0.5, 'model__l1': 32, 'model__l2': 32}\n",
            "0.100000 (0.000000) with: {'model__dr': 0.5, 'model__l1': 32, 'model__l2': 64}\n",
            "0.193160 (0.032720) with: {'model__dr': 0.5, 'model__l1': 64, 'model__l2': 16}\n",
            "0.182860 (0.012580) with: {'model__dr': 0.5, 'model__l1': 64, 'model__l2': 32}\n",
            "0.190180 (0.001980) with: {'model__dr': 0.5, 'model__l1': 64, 'model__l2': 64}\n"
          ]
        }
      ],
      "source": [
        "means = gs2.cv_results_['mean_test_score']\n",
        "stds = gs2.cv_results_['std_test_score']\n",
        "params = gs2.cv_results_['params']\n",
        "for mean, stdev, param in zip(means, stds, params):\n",
        "    print(\"%f (%f) with: %r\" % (mean, stdev, param))"
      ]
    },
    {
      "cell_type": "markdown",
      "metadata": {
        "id": "GV17zTeB7yqN"
      },
      "source": [
        "*Presentación de resultados*"
      ]
    },
    {
      "cell_type": "code",
      "execution_count": null,
      "metadata": {
        "colab": {
          "base_uri": "https://localhost:8080/",
          "height": 371
        },
        "id": "e7RTpjVKhbfq",
        "outputId": "cc357adb-e7ec-4c73-f517-9ab0ca0e0ba3"
      },
      "outputs": [
        {
          "data": {
            "application/vnd.google.colaboratory.intrinsic+json": {
              "summary": "{\n  \"name\": \"cv_results\",\n  \"rows\": 36,\n  \"fields\": [\n    {\n      \"column\": \"mean_fit_time\",\n      \"properties\": {\n        \"dtype\": \"number\",\n        \"std\": 8.849049950996045,\n        \"min\": 31.88045632839203,\n        \"max\": 58.27701282501221,\n        \"num_unique_values\": 36,\n        \"samples\": [\n          47.476749777793884,\n          45.226646304130554,\n          57.0775009393692\n        ],\n        \"semantic_type\": \"\",\n        \"description\": \"\"\n      }\n    },\n    {\n      \"column\": \"std_fit_time\",\n      \"properties\": {\n        \"dtype\": \"number\",\n        \"std\": 1.8273642589917414,\n        \"min\": 0.12087833881378174,\n        \"max\": 6.179450869560242,\n        \"num_unique_values\": 36,\n        \"samples\": [\n          5.77672278881073,\n          2.1556316614151,\n          2.6133416891098022\n        ],\n        \"semantic_type\": \"\",\n        \"description\": \"\"\n      }\n    },\n    {\n      \"column\": \"mean_score_time\",\n      \"properties\": {\n        \"dtype\": \"number\",\n        \"std\": 0.5069293803416108,\n        \"min\": 1.3914031982421875,\n        \"max\": 3.3568623065948486,\n        \"num_unique_values\": 36,\n        \"samples\": [\n          1.5762518644332886,\n          2.157257318496704,\n          2.1393357515335083\n        ],\n        \"semantic_type\": \"\",\n        \"description\": \"\"\n      }\n    },\n    {\n      \"column\": \"std_score_time\",\n      \"properties\": {\n        \"dtype\": \"number\",\n        \"std\": 0.29943296763151195,\n        \"min\": 0.0640326738357544,\n        \"max\": 1.253822922706604,\n        \"num_unique_values\": 36,\n        \"samples\": [\n          0.3642367124557495,\n          0.19417333602905273,\n          0.2509385347366333\n        ],\n        \"semantic_type\": \"\",\n        \"description\": \"\"\n      }\n    },\n    {\n      \"column\": \"param_model__dr\",\n      \"properties\": {\n        \"dtype\": \"date\",\n        \"min\": 0,\n        \"max\": 0.5,\n        \"num_unique_values\": 4,\n        \"samples\": [\n          0.2,\n          0.5,\n          0\n        ],\n        \"semantic_type\": \"\",\n        \"description\": \"\"\n      }\n    },\n    {\n      \"column\": \"param_model__l1\",\n      \"properties\": {\n        \"dtype\": \"date\",\n        \"min\": 16,\n        \"max\": 64,\n        \"num_unique_values\": 3,\n        \"samples\": [\n          16,\n          32,\n          64\n        ],\n        \"semantic_type\": \"\",\n        \"description\": \"\"\n      }\n    },\n    {\n      \"column\": \"param_model__l2\",\n      \"properties\": {\n        \"dtype\": \"date\",\n        \"min\": 16,\n        \"max\": 64,\n        \"num_unique_values\": 3,\n        \"samples\": [\n          16,\n          32,\n          64\n        ],\n        \"semantic_type\": \"\",\n        \"description\": \"\"\n      }\n    },\n    {\n      \"column\": \"params\",\n      \"properties\": {\n        \"dtype\": \"object\",\n        \"semantic_type\": \"\",\n        \"description\": \"\"\n      }\n    },\n    {\n      \"column\": \"split0_test_score\",\n      \"properties\": {\n        \"dtype\": \"number\",\n        \"std\": 0.1085578306915003,\n        \"min\": 0.1,\n        \"max\": 0.43372,\n        \"num_unique_values\": 29,\n        \"samples\": [\n          0.17028,\n          0.36668,\n          0.31904\n        ],\n        \"semantic_type\": \"\",\n        \"description\": \"\"\n      }\n    },\n    {\n      \"column\": \"split1_test_score\",\n      \"properties\": {\n        \"dtype\": \"number\",\n        \"std\": 0.11046342006322044,\n        \"min\": 0.1,\n        \"max\": 0.42328,\n        \"num_unique_values\": 30,\n        \"samples\": [\n          0.16044,\n          0.35448,\n          0.29244\n        ],\n        \"semantic_type\": \"\",\n        \"description\": \"\"\n      }\n    },\n    {\n      \"column\": \"mean_test_score\",\n      \"properties\": {\n        \"dtype\": \"number\",\n        \"std\": 0.10408426756224139,\n        \"min\": 0.1,\n        \"max\": 0.4285,\n        \"num_unique_values\": 33,\n        \"samples\": [\n          0.18286,\n          0.36404000000000003,\n          0.30844\n        ],\n        \"semantic_type\": \"\",\n        \"description\": \"\"\n      }\n    },\n    {\n      \"column\": \"std_test_score\",\n      \"properties\": {\n        \"dtype\": \"number\",\n        \"std\": 0.02624249225364351,\n        \"min\": 0.0,\n        \"max\": 0.12719999999999998,\n        \"num_unique_values\": 33,\n        \"samples\": [\n          0.012580000000000008,\n          0.009559999999999985,\n          0.019600000000000006\n        ],\n        \"semantic_type\": \"\",\n        \"description\": \"\"\n      }\n    },\n    {\n      \"column\": \"rank_test_score\",\n      \"properties\": {\n        \"dtype\": \"int32\",\n        \"num_unique_values\": 33,\n        \"samples\": [\n          25,\n          8,\n          11\n        ],\n        \"semantic_type\": \"\",\n        \"description\": \"\"\n      }\n    }\n  ]\n}",
              "type": "dataframe",
              "variable_name": "cv_results"
            },
            "text/html": [
              "\n",
              "  <div id=\"df-a95ea0b0-29ca-4792-88a3-e87369a5ee09\" class=\"colab-df-container\">\n",
              "    <div>\n",
              "<style scoped>\n",
              "    .dataframe tbody tr th:only-of-type {\n",
              "        vertical-align: middle;\n",
              "    }\n",
              "\n",
              "    .dataframe tbody tr th {\n",
              "        vertical-align: top;\n",
              "    }\n",
              "\n",
              "    .dataframe thead th {\n",
              "        text-align: right;\n",
              "    }\n",
              "</style>\n",
              "<table border=\"1\" class=\"dataframe\">\n",
              "  <thead>\n",
              "    <tr style=\"text-align: right;\">\n",
              "      <th></th>\n",
              "      <th>mean_fit_time</th>\n",
              "      <th>std_fit_time</th>\n",
              "      <th>mean_score_time</th>\n",
              "      <th>std_score_time</th>\n",
              "      <th>param_model__dr</th>\n",
              "      <th>param_model__l1</th>\n",
              "      <th>param_model__l2</th>\n",
              "      <th>params</th>\n",
              "      <th>split0_test_score</th>\n",
              "      <th>split1_test_score</th>\n",
              "      <th>mean_test_score</th>\n",
              "      <th>std_test_score</th>\n",
              "      <th>rank_test_score</th>\n",
              "    </tr>\n",
              "  </thead>\n",
              "  <tbody>\n",
              "    <tr>\n",
              "      <th>0</th>\n",
              "      <td>36.312438</td>\n",
              "      <td>0.359480</td>\n",
              "      <td>3.092209</td>\n",
              "      <td>0.618122</td>\n",
              "      <td>0</td>\n",
              "      <td>16</td>\n",
              "      <td>16</td>\n",
              "      <td>{'model__dr': 0, 'model__l1': 16, 'model__l2':...</td>\n",
              "      <td>0.35440</td>\n",
              "      <td>0.10000</td>\n",
              "      <td>0.22720</td>\n",
              "      <td>0.12720</td>\n",
              "      <td>19</td>\n",
              "    </tr>\n",
              "    <tr>\n",
              "      <th>1</th>\n",
              "      <td>34.269560</td>\n",
              "      <td>0.576507</td>\n",
              "      <td>2.070892</td>\n",
              "      <td>0.554020</td>\n",
              "      <td>0</td>\n",
              "      <td>16</td>\n",
              "      <td>32</td>\n",
              "      <td>{'model__dr': 0, 'model__l1': 16, 'model__l2':...</td>\n",
              "      <td>0.26396</td>\n",
              "      <td>0.25732</td>\n",
              "      <td>0.26064</td>\n",
              "      <td>0.00332</td>\n",
              "      <td>15</td>\n",
              "    </tr>\n",
              "    <tr>\n",
              "      <th>2</th>\n",
              "      <td>34.692596</td>\n",
              "      <td>2.877435</td>\n",
              "      <td>2.481086</td>\n",
              "      <td>0.235054</td>\n",
              "      <td>0</td>\n",
              "      <td>16</td>\n",
              "      <td>64</td>\n",
              "      <td>{'model__dr': 0, 'model__l1': 16, 'model__l2':...</td>\n",
              "      <td>0.35084</td>\n",
              "      <td>0.34212</td>\n",
              "      <td>0.34648</td>\n",
              "      <td>0.00436</td>\n",
              "      <td>10</td>\n",
              "    </tr>\n",
              "  </tbody>\n",
              "</table>\n",
              "</div>\n",
              "    <div class=\"colab-df-buttons\">\n",
              "\n",
              "  <div class=\"colab-df-container\">\n",
              "    <button class=\"colab-df-convert\" onclick=\"convertToInteractive('df-a95ea0b0-29ca-4792-88a3-e87369a5ee09')\"\n",
              "            title=\"Convert this dataframe to an interactive table.\"\n",
              "            style=\"display:none;\">\n",
              "\n",
              "  <svg xmlns=\"http://www.w3.org/2000/svg\" height=\"24px\" viewBox=\"0 -960 960 960\">\n",
              "    <path d=\"M120-120v-720h720v720H120Zm60-500h600v-160H180v160Zm220 220h160v-160H400v160Zm0 220h160v-160H400v160ZM180-400h160v-160H180v160Zm440 0h160v-160H620v160ZM180-180h160v-160H180v160Zm440 0h160v-160H620v160Z\"/>\n",
              "  </svg>\n",
              "    </button>\n",
              "\n",
              "  <style>\n",
              "    .colab-df-container {\n",
              "      display:flex;\n",
              "      gap: 12px;\n",
              "    }\n",
              "\n",
              "    .colab-df-convert {\n",
              "      background-color: #E8F0FE;\n",
              "      border: none;\n",
              "      border-radius: 50%;\n",
              "      cursor: pointer;\n",
              "      display: none;\n",
              "      fill: #1967D2;\n",
              "      height: 32px;\n",
              "      padding: 0 0 0 0;\n",
              "      width: 32px;\n",
              "    }\n",
              "\n",
              "    .colab-df-convert:hover {\n",
              "      background-color: #E2EBFA;\n",
              "      box-shadow: 0px 1px 2px rgba(60, 64, 67, 0.3), 0px 1px 3px 1px rgba(60, 64, 67, 0.15);\n",
              "      fill: #174EA6;\n",
              "    }\n",
              "\n",
              "    .colab-df-buttons div {\n",
              "      margin-bottom: 4px;\n",
              "    }\n",
              "\n",
              "    [theme=dark] .colab-df-convert {\n",
              "      background-color: #3B4455;\n",
              "      fill: #D2E3FC;\n",
              "    }\n",
              "\n",
              "    [theme=dark] .colab-df-convert:hover {\n",
              "      background-color: #434B5C;\n",
              "      box-shadow: 0px 1px 3px 1px rgba(0, 0, 0, 0.15);\n",
              "      filter: drop-shadow(0px 1px 2px rgba(0, 0, 0, 0.3));\n",
              "      fill: #FFFFFF;\n",
              "    }\n",
              "  </style>\n",
              "\n",
              "    <script>\n",
              "      const buttonEl =\n",
              "        document.querySelector('#df-a95ea0b0-29ca-4792-88a3-e87369a5ee09 button.colab-df-convert');\n",
              "      buttonEl.style.display =\n",
              "        google.colab.kernel.accessAllowed ? 'block' : 'none';\n",
              "\n",
              "      async function convertToInteractive(key) {\n",
              "        const element = document.querySelector('#df-a95ea0b0-29ca-4792-88a3-e87369a5ee09');\n",
              "        const dataTable =\n",
              "          await google.colab.kernel.invokeFunction('convertToInteractive',\n",
              "                                                    [key], {});\n",
              "        if (!dataTable) return;\n",
              "\n",
              "        const docLinkHtml = 'Like what you see? Visit the ' +\n",
              "          '<a target=\"_blank\" href=https://colab.research.google.com/notebooks/data_table.ipynb>data table notebook</a>'\n",
              "          + ' to learn more about interactive tables.';\n",
              "        element.innerHTML = '';\n",
              "        dataTable['output_type'] = 'display_data';\n",
              "        await google.colab.output.renderOutput(dataTable, element);\n",
              "        const docLink = document.createElement('div');\n",
              "        docLink.innerHTML = docLinkHtml;\n",
              "        element.appendChild(docLink);\n",
              "      }\n",
              "    </script>\n",
              "  </div>\n",
              "\n",
              "\n",
              "<div id=\"df-f1272312-f5f3-44b7-8c5a-6ca8e6600a2b\">\n",
              "  <button class=\"colab-df-quickchart\" onclick=\"quickchart('df-f1272312-f5f3-44b7-8c5a-6ca8e6600a2b')\"\n",
              "            title=\"Suggest charts\"\n",
              "            style=\"display:none;\">\n",
              "\n",
              "<svg xmlns=\"http://www.w3.org/2000/svg\" height=\"24px\"viewBox=\"0 0 24 24\"\n",
              "     width=\"24px\">\n",
              "    <g>\n",
              "        <path d=\"M19 3H5c-1.1 0-2 .9-2 2v14c0 1.1.9 2 2 2h14c1.1 0 2-.9 2-2V5c0-1.1-.9-2-2-2zM9 17H7v-7h2v7zm4 0h-2V7h2v10zm4 0h-2v-4h2v4z\"/>\n",
              "    </g>\n",
              "</svg>\n",
              "  </button>\n",
              "\n",
              "<style>\n",
              "  .colab-df-quickchart {\n",
              "      --bg-color: #E8F0FE;\n",
              "      --fill-color: #1967D2;\n",
              "      --hover-bg-color: #E2EBFA;\n",
              "      --hover-fill-color: #174EA6;\n",
              "      --disabled-fill-color: #AAA;\n",
              "      --disabled-bg-color: #DDD;\n",
              "  }\n",
              "\n",
              "  [theme=dark] .colab-df-quickchart {\n",
              "      --bg-color: #3B4455;\n",
              "      --fill-color: #D2E3FC;\n",
              "      --hover-bg-color: #434B5C;\n",
              "      --hover-fill-color: #FFFFFF;\n",
              "      --disabled-bg-color: #3B4455;\n",
              "      --disabled-fill-color: #666;\n",
              "  }\n",
              "\n",
              "  .colab-df-quickchart {\n",
              "    background-color: var(--bg-color);\n",
              "    border: none;\n",
              "    border-radius: 50%;\n",
              "    cursor: pointer;\n",
              "    display: none;\n",
              "    fill: var(--fill-color);\n",
              "    height: 32px;\n",
              "    padding: 0;\n",
              "    width: 32px;\n",
              "  }\n",
              "\n",
              "  .colab-df-quickchart:hover {\n",
              "    background-color: var(--hover-bg-color);\n",
              "    box-shadow: 0 1px 2px rgba(60, 64, 67, 0.3), 0 1px 3px 1px rgba(60, 64, 67, 0.15);\n",
              "    fill: var(--button-hover-fill-color);\n",
              "  }\n",
              "\n",
              "  .colab-df-quickchart-complete:disabled,\n",
              "  .colab-df-quickchart-complete:disabled:hover {\n",
              "    background-color: var(--disabled-bg-color);\n",
              "    fill: var(--disabled-fill-color);\n",
              "    box-shadow: none;\n",
              "  }\n",
              "\n",
              "  .colab-df-spinner {\n",
              "    border: 2px solid var(--fill-color);\n",
              "    border-color: transparent;\n",
              "    border-bottom-color: var(--fill-color);\n",
              "    animation:\n",
              "      spin 1s steps(1) infinite;\n",
              "  }\n",
              "\n",
              "  @keyframes spin {\n",
              "    0% {\n",
              "      border-color: transparent;\n",
              "      border-bottom-color: var(--fill-color);\n",
              "      border-left-color: var(--fill-color);\n",
              "    }\n",
              "    20% {\n",
              "      border-color: transparent;\n",
              "      border-left-color: var(--fill-color);\n",
              "      border-top-color: var(--fill-color);\n",
              "    }\n",
              "    30% {\n",
              "      border-color: transparent;\n",
              "      border-left-color: var(--fill-color);\n",
              "      border-top-color: var(--fill-color);\n",
              "      border-right-color: var(--fill-color);\n",
              "    }\n",
              "    40% {\n",
              "      border-color: transparent;\n",
              "      border-right-color: var(--fill-color);\n",
              "      border-top-color: var(--fill-color);\n",
              "    }\n",
              "    60% {\n",
              "      border-color: transparent;\n",
              "      border-right-color: var(--fill-color);\n",
              "    }\n",
              "    80% {\n",
              "      border-color: transparent;\n",
              "      border-right-color: var(--fill-color);\n",
              "      border-bottom-color: var(--fill-color);\n",
              "    }\n",
              "    90% {\n",
              "      border-color: transparent;\n",
              "      border-bottom-color: var(--fill-color);\n",
              "    }\n",
              "  }\n",
              "</style>\n",
              "\n",
              "  <script>\n",
              "    async function quickchart(key) {\n",
              "      const quickchartButtonEl =\n",
              "        document.querySelector('#' + key + ' button');\n",
              "      quickchartButtonEl.disabled = true;  // To prevent multiple clicks.\n",
              "      quickchartButtonEl.classList.add('colab-df-spinner');\n",
              "      try {\n",
              "        const charts = await google.colab.kernel.invokeFunction(\n",
              "            'suggestCharts', [key], {});\n",
              "      } catch (error) {\n",
              "        console.error('Error during call to suggestCharts:', error);\n",
              "      }\n",
              "      quickchartButtonEl.classList.remove('colab-df-spinner');\n",
              "      quickchartButtonEl.classList.add('colab-df-quickchart-complete');\n",
              "    }\n",
              "    (() => {\n",
              "      let quickchartButtonEl =\n",
              "        document.querySelector('#df-f1272312-f5f3-44b7-8c5a-6ca8e6600a2b button');\n",
              "      quickchartButtonEl.style.display =\n",
              "        google.colab.kernel.accessAllowed ? 'block' : 'none';\n",
              "    })();\n",
              "  </script>\n",
              "</div>\n",
              "\n",
              "    </div>\n",
              "  </div>\n"
            ],
            "text/plain": [
              "   mean_fit_time  std_fit_time  mean_score_time  std_score_time  \\\n",
              "0      36.312438      0.359480         3.092209        0.618122   \n",
              "1      34.269560      0.576507         2.070892        0.554020   \n",
              "2      34.692596      2.877435         2.481086        0.235054   \n",
              "\n",
              "  param_model__dr param_model__l1 param_model__l2  \\\n",
              "0               0              16              16   \n",
              "1               0              16              32   \n",
              "2               0              16              64   \n",
              "\n",
              "                                              params  split0_test_score  \\\n",
              "0  {'model__dr': 0, 'model__l1': 16, 'model__l2':...            0.35440   \n",
              "1  {'model__dr': 0, 'model__l1': 16, 'model__l2':...            0.26396   \n",
              "2  {'model__dr': 0, 'model__l1': 16, 'model__l2':...            0.35084   \n",
              "\n",
              "   split1_test_score  mean_test_score  std_test_score  rank_test_score  \n",
              "0            0.10000          0.22720         0.12720               19  \n",
              "1            0.25732          0.26064         0.00332               15  \n",
              "2            0.34212          0.34648         0.00436               10  "
            ]
          },
          "execution_count": 41,
          "metadata": {},
          "output_type": "execute_result"
        }
      ],
      "source": [
        "cv_results= pd.DataFrame(gs2.cv_results_)\n",
        "cv_results.head(3)"
      ]
    },
    {
      "cell_type": "code",
      "execution_count": null,
      "metadata": {
        "colab": {
          "base_uri": "https://localhost:8080/",
          "height": 143
        },
        "id": "E3yX-pAfhioC",
        "outputId": "361178b2-6d8c-49dd-e16a-78b203910c1b"
      },
      "outputs": [
        {
          "data": {
            "application/vnd.google.colaboratory.intrinsic+json": {
              "summary": "{\n  \"name\": \"cv_results\",\n  \"rows\": 36,\n  \"fields\": [\n    {\n      \"column\": \"mean_test_score\",\n      \"properties\": {\n        \"dtype\": \"number\",\n        \"std\": 0.10408426756224136,\n        \"min\": 0.1,\n        \"max\": 0.4285,\n        \"num_unique_values\": 33,\n        \"samples\": [\n          0.13244,\n          0.257,\n          0.15789999999999998\n        ],\n        \"semantic_type\": \"\",\n        \"description\": \"\"\n      }\n    },\n    {\n      \"column\": \"std_test_score\",\n      \"properties\": {\n        \"dtype\": \"number\",\n        \"std\": 0.026242492253643508,\n        \"min\": 0.0,\n        \"max\": 0.12719999999999998,\n        \"num_unique_values\": 33,\n        \"samples\": [\n          0.03244,\n          0.003280000000000005,\n          0.05789999999999999\n        ],\n        \"semantic_type\": \"\",\n        \"description\": \"\"\n      }\n    },\n    {\n      \"column\": \"param_model__l1\",\n      \"properties\": {\n        \"dtype\": \"date\",\n        \"min\": 16,\n        \"max\": 64,\n        \"num_unique_values\": 3,\n        \"samples\": [\n          64,\n          32,\n          16\n        ],\n        \"semantic_type\": \"\",\n        \"description\": \"\"\n      }\n    },\n    {\n      \"column\": \"param_model__l2\",\n      \"properties\": {\n        \"dtype\": \"date\",\n        \"min\": 16,\n        \"max\": 64,\n        \"num_unique_values\": 3,\n        \"samples\": [\n          64,\n          32,\n          16\n        ],\n        \"semantic_type\": \"\",\n        \"description\": \"\"\n      }\n    }\n  ]\n}",
              "type": "dataframe",
              "variable_name": "cv_results"
            },
            "text/html": [
              "\n",
              "  <div id=\"df-3218bb02-b0cb-4f28-85fd-9ba5891417fa\" class=\"colab-df-container\">\n",
              "    <div>\n",
              "<style scoped>\n",
              "    .dataframe tbody tr th:only-of-type {\n",
              "        vertical-align: middle;\n",
              "    }\n",
              "\n",
              "    .dataframe tbody tr th {\n",
              "        vertical-align: top;\n",
              "    }\n",
              "\n",
              "    .dataframe thead th {\n",
              "        text-align: right;\n",
              "    }\n",
              "</style>\n",
              "<table border=\"1\" class=\"dataframe\">\n",
              "  <thead>\n",
              "    <tr style=\"text-align: right;\">\n",
              "      <th></th>\n",
              "      <th>mean_test_score</th>\n",
              "      <th>std_test_score</th>\n",
              "      <th>param_model__l1</th>\n",
              "      <th>param_model__l2</th>\n",
              "    </tr>\n",
              "  </thead>\n",
              "  <tbody>\n",
              "    <tr>\n",
              "      <th>8</th>\n",
              "      <td>0.42850</td>\n",
              "      <td>0.00522</td>\n",
              "      <td>64</td>\n",
              "      <td>64</td>\n",
              "    </tr>\n",
              "    <tr>\n",
              "      <th>7</th>\n",
              "      <td>0.41052</td>\n",
              "      <td>0.00424</td>\n",
              "      <td>64</td>\n",
              "      <td>32</td>\n",
              "    </tr>\n",
              "    <tr>\n",
              "      <th>5</th>\n",
              "      <td>0.40286</td>\n",
              "      <td>0.01682</td>\n",
              "      <td>32</td>\n",
              "      <td>64</td>\n",
              "    </tr>\n",
              "  </tbody>\n",
              "</table>\n",
              "</div>\n",
              "    <div class=\"colab-df-buttons\">\n",
              "\n",
              "  <div class=\"colab-df-container\">\n",
              "    <button class=\"colab-df-convert\" onclick=\"convertToInteractive('df-3218bb02-b0cb-4f28-85fd-9ba5891417fa')\"\n",
              "            title=\"Convert this dataframe to an interactive table.\"\n",
              "            style=\"display:none;\">\n",
              "\n",
              "  <svg xmlns=\"http://www.w3.org/2000/svg\" height=\"24px\" viewBox=\"0 -960 960 960\">\n",
              "    <path d=\"M120-120v-720h720v720H120Zm60-500h600v-160H180v160Zm220 220h160v-160H400v160Zm0 220h160v-160H400v160ZM180-400h160v-160H180v160Zm440 0h160v-160H620v160ZM180-180h160v-160H180v160Zm440 0h160v-160H620v160Z\"/>\n",
              "  </svg>\n",
              "    </button>\n",
              "\n",
              "  <style>\n",
              "    .colab-df-container {\n",
              "      display:flex;\n",
              "      gap: 12px;\n",
              "    }\n",
              "\n",
              "    .colab-df-convert {\n",
              "      background-color: #E8F0FE;\n",
              "      border: none;\n",
              "      border-radius: 50%;\n",
              "      cursor: pointer;\n",
              "      display: none;\n",
              "      fill: #1967D2;\n",
              "      height: 32px;\n",
              "      padding: 0 0 0 0;\n",
              "      width: 32px;\n",
              "    }\n",
              "\n",
              "    .colab-df-convert:hover {\n",
              "      background-color: #E2EBFA;\n",
              "      box-shadow: 0px 1px 2px rgba(60, 64, 67, 0.3), 0px 1px 3px 1px rgba(60, 64, 67, 0.15);\n",
              "      fill: #174EA6;\n",
              "    }\n",
              "\n",
              "    .colab-df-buttons div {\n",
              "      margin-bottom: 4px;\n",
              "    }\n",
              "\n",
              "    [theme=dark] .colab-df-convert {\n",
              "      background-color: #3B4455;\n",
              "      fill: #D2E3FC;\n",
              "    }\n",
              "\n",
              "    [theme=dark] .colab-df-convert:hover {\n",
              "      background-color: #434B5C;\n",
              "      box-shadow: 0px 1px 3px 1px rgba(0, 0, 0, 0.15);\n",
              "      filter: drop-shadow(0px 1px 2px rgba(0, 0, 0, 0.3));\n",
              "      fill: #FFFFFF;\n",
              "    }\n",
              "  </style>\n",
              "\n",
              "    <script>\n",
              "      const buttonEl =\n",
              "        document.querySelector('#df-3218bb02-b0cb-4f28-85fd-9ba5891417fa button.colab-df-convert');\n",
              "      buttonEl.style.display =\n",
              "        google.colab.kernel.accessAllowed ? 'block' : 'none';\n",
              "\n",
              "      async function convertToInteractive(key) {\n",
              "        const element = document.querySelector('#df-3218bb02-b0cb-4f28-85fd-9ba5891417fa');\n",
              "        const dataTable =\n",
              "          await google.colab.kernel.invokeFunction('convertToInteractive',\n",
              "                                                    [key], {});\n",
              "        if (!dataTable) return;\n",
              "\n",
              "        const docLinkHtml = 'Like what you see? Visit the ' +\n",
              "          '<a target=\"_blank\" href=https://colab.research.google.com/notebooks/data_table.ipynb>data table notebook</a>'\n",
              "          + ' to learn more about interactive tables.';\n",
              "        element.innerHTML = '';\n",
              "        dataTable['output_type'] = 'display_data';\n",
              "        await google.colab.output.renderOutput(dataTable, element);\n",
              "        const docLink = document.createElement('div');\n",
              "        docLink.innerHTML = docLinkHtml;\n",
              "        element.appendChild(docLink);\n",
              "      }\n",
              "    </script>\n",
              "  </div>\n",
              "\n",
              "\n",
              "<div id=\"df-b3028161-064c-402f-af27-adf686f4d531\">\n",
              "  <button class=\"colab-df-quickchart\" onclick=\"quickchart('df-b3028161-064c-402f-af27-adf686f4d531')\"\n",
              "            title=\"Suggest charts\"\n",
              "            style=\"display:none;\">\n",
              "\n",
              "<svg xmlns=\"http://www.w3.org/2000/svg\" height=\"24px\"viewBox=\"0 0 24 24\"\n",
              "     width=\"24px\">\n",
              "    <g>\n",
              "        <path d=\"M19 3H5c-1.1 0-2 .9-2 2v14c0 1.1.9 2 2 2h14c1.1 0 2-.9 2-2V5c0-1.1-.9-2-2-2zM9 17H7v-7h2v7zm4 0h-2V7h2v10zm4 0h-2v-4h2v4z\"/>\n",
              "    </g>\n",
              "</svg>\n",
              "  </button>\n",
              "\n",
              "<style>\n",
              "  .colab-df-quickchart {\n",
              "      --bg-color: #E8F0FE;\n",
              "      --fill-color: #1967D2;\n",
              "      --hover-bg-color: #E2EBFA;\n",
              "      --hover-fill-color: #174EA6;\n",
              "      --disabled-fill-color: #AAA;\n",
              "      --disabled-bg-color: #DDD;\n",
              "  }\n",
              "\n",
              "  [theme=dark] .colab-df-quickchart {\n",
              "      --bg-color: #3B4455;\n",
              "      --fill-color: #D2E3FC;\n",
              "      --hover-bg-color: #434B5C;\n",
              "      --hover-fill-color: #FFFFFF;\n",
              "      --disabled-bg-color: #3B4455;\n",
              "      --disabled-fill-color: #666;\n",
              "  }\n",
              "\n",
              "  .colab-df-quickchart {\n",
              "    background-color: var(--bg-color);\n",
              "    border: none;\n",
              "    border-radius: 50%;\n",
              "    cursor: pointer;\n",
              "    display: none;\n",
              "    fill: var(--fill-color);\n",
              "    height: 32px;\n",
              "    padding: 0;\n",
              "    width: 32px;\n",
              "  }\n",
              "\n",
              "  .colab-df-quickchart:hover {\n",
              "    background-color: var(--hover-bg-color);\n",
              "    box-shadow: 0 1px 2px rgba(60, 64, 67, 0.3), 0 1px 3px 1px rgba(60, 64, 67, 0.15);\n",
              "    fill: var(--button-hover-fill-color);\n",
              "  }\n",
              "\n",
              "  .colab-df-quickchart-complete:disabled,\n",
              "  .colab-df-quickchart-complete:disabled:hover {\n",
              "    background-color: var(--disabled-bg-color);\n",
              "    fill: var(--disabled-fill-color);\n",
              "    box-shadow: none;\n",
              "  }\n",
              "\n",
              "  .colab-df-spinner {\n",
              "    border: 2px solid var(--fill-color);\n",
              "    border-color: transparent;\n",
              "    border-bottom-color: var(--fill-color);\n",
              "    animation:\n",
              "      spin 1s steps(1) infinite;\n",
              "  }\n",
              "\n",
              "  @keyframes spin {\n",
              "    0% {\n",
              "      border-color: transparent;\n",
              "      border-bottom-color: var(--fill-color);\n",
              "      border-left-color: var(--fill-color);\n",
              "    }\n",
              "    20% {\n",
              "      border-color: transparent;\n",
              "      border-left-color: var(--fill-color);\n",
              "      border-top-color: var(--fill-color);\n",
              "    }\n",
              "    30% {\n",
              "      border-color: transparent;\n",
              "      border-left-color: var(--fill-color);\n",
              "      border-top-color: var(--fill-color);\n",
              "      border-right-color: var(--fill-color);\n",
              "    }\n",
              "    40% {\n",
              "      border-color: transparent;\n",
              "      border-right-color: var(--fill-color);\n",
              "      border-top-color: var(--fill-color);\n",
              "    }\n",
              "    60% {\n",
              "      border-color: transparent;\n",
              "      border-right-color: var(--fill-color);\n",
              "    }\n",
              "    80% {\n",
              "      border-color: transparent;\n",
              "      border-right-color: var(--fill-color);\n",
              "      border-bottom-color: var(--fill-color);\n",
              "    }\n",
              "    90% {\n",
              "      border-color: transparent;\n",
              "      border-bottom-color: var(--fill-color);\n",
              "    }\n",
              "  }\n",
              "</style>\n",
              "\n",
              "  <script>\n",
              "    async function quickchart(key) {\n",
              "      const quickchartButtonEl =\n",
              "        document.querySelector('#' + key + ' button');\n",
              "      quickchartButtonEl.disabled = true;  // To prevent multiple clicks.\n",
              "      quickchartButtonEl.classList.add('colab-df-spinner');\n",
              "      try {\n",
              "        const charts = await google.colab.kernel.invokeFunction(\n",
              "            'suggestCharts', [key], {});\n",
              "      } catch (error) {\n",
              "        console.error('Error during call to suggestCharts:', error);\n",
              "      }\n",
              "      quickchartButtonEl.classList.remove('colab-df-spinner');\n",
              "      quickchartButtonEl.classList.add('colab-df-quickchart-complete');\n",
              "    }\n",
              "    (() => {\n",
              "      let quickchartButtonEl =\n",
              "        document.querySelector('#df-b3028161-064c-402f-af27-adf686f4d531 button');\n",
              "      quickchartButtonEl.style.display =\n",
              "        google.colab.kernel.accessAllowed ? 'block' : 'none';\n",
              "    })();\n",
              "  </script>\n",
              "</div>\n",
              "\n",
              "    </div>\n",
              "  </div>\n"
            ],
            "text/plain": [
              "   mean_test_score  std_test_score param_model__l1 param_model__l2\n",
              "8          0.42850         0.00522              64              64\n",
              "7          0.41052         0.00424              64              32\n",
              "5          0.40286         0.01682              32              64"
            ]
          },
          "execution_count": 42,
          "metadata": {},
          "output_type": "execute_result"
        }
      ],
      "source": [
        "cv_results = cv_results.sort_values(\"mean_test_score\", ascending=False)\n",
        "cv_results=cv_results[[\"mean_test_score\", \"std_test_score\",\n",
        "            \"param_model__l1\",\n",
        "            \"param_model__l2\"\n",
        "            ]]\n",
        "cv_results.head(3)"
      ]
    },
    {
      "cell_type": "code",
      "execution_count": null,
      "metadata": {
        "colab": {
          "base_uri": "https://localhost:8080/",
          "height": 464
        },
        "id": "qRamexBwkBR5",
        "outputId": "d27ee2ce-12bf-4da9-ede4-3df28296156f"
      },
      "outputs": [
        {
          "data": {
            "image/png": "[encoded data removed]",
            "text/plain": [
              "<Figure size 640x480 with 2 Axes>"
            ]
          },
          "metadata": {},
          "output_type": "display_data"
        }
      ],
      "source": [
        "def make_heatmap(ax, gs, is_sh=False, make_cbar=False, cmap='GnBu'):\n",
        "    results=cv_results\n",
        "    scores_matrix = pd.pivot_table(data=cv_results.sort_values('mean_test_score', ascending=False),\n",
        "                                   index='param_model__l2',\n",
        "                                   columns='param_model__l1',\n",
        "                                   values='mean_test_score')\n",
        "    im = ax.imshow(scores_matrix, cmap=cmap)\n",
        "    z=results['mean_test_score']\n",
        "    z_min, z_max = -np.abs(z).max(), np.abs(z).max()\n",
        "    ax.set_xticks(np.arange(len(l1)))\n",
        "    ax.set_xticklabels([x for x in l1])\n",
        "    ax.set_xlabel('l1', fontsize=15)\n",
        "    ax.set_yticks(np.arange(len(l2)))\n",
        "    ax.set_yticklabels([x for x in l2])\n",
        "    ax.set_ylabel('l2', fontsize=15)\n",
        "    # Para girar las etiquetas de las marcas y establecer su alineación\n",
        "    plt.setp(ax.get_xticklabels(), rotation=45, ha=\"right\",\n",
        "             rotation_mode=\"anchor\")\n",
        "    if make_cbar:\n",
        "        fig.subplots_adjust(right=0.8)\n",
        "        cbar_ax = fig.add_axes([0.85, 0.15, 0.05, 0.7])\n",
        "        fig.colorbar(im, cax=cbar_ax)\n",
        "        cbar_ax.set_ylabel('ACCURACY', rotation=-90, va=\"bottom\",\n",
        "                           fontsize=15)\n",
        "\n",
        "fig, axes = plt.subplots(ncols=1, sharey=True)\n",
        "ax2 = axes\n",
        "\n",
        "make_heatmap(ax2, gs2, make_cbar=True, cmap='RdBu')\n",
        "#Otros valores de colormaps: 'GnBu', 'RdBu', 'viridis', 'cividis'\n",
        "\n",
        "#ax2.set_title('Tiempo = '+tiempoTotal, fontsize=15)\n",
        "plt.show()"
      ]
    },
    {
      "cell_type": "markdown",
      "metadata": {
        "id": "-egne0rm8bZN"
      },
      "source": [
        "**1.4\tEvaluar con el conjunto de Test la red neuronal y presentar las medidas: a. Accuracy, b. Precision, c. Recall, d. F1-Score**"
      ]
    },
    {
      "cell_type": "code",
      "execution_count": null,
      "metadata": {
        "colab": {
          "base_uri": "https://localhost:8080/"
        },
        "id": "CSfVtbvz50Yn",
        "outputId": "e8de52a5-a17b-41d6-f330-4fea466cd984"
      },
      "outputs": [
        {
          "name": "stderr",
          "output_type": "stream",
          "text": [
            "/usr/local/lib/python3.10/dist-packages/joblib/externals/loky/backend/fork_exec.py:38: RuntimeWarning: os.fork() was called. os.fork() is incompatible with multithreaded code, and JAX is multithreaded, so this will likely lead to a deadlock.\n",
            "  pid = os.fork()\n"
          ]
        },
        {
          "name": "stdout",
          "output_type": "stream",
          "text": [
            "Scores:\n",
            "0.4704\n",
            "0.468\n",
            "0.4642\n",
            "0.4614\n",
            "0.4342\n",
            "Mean scores: 0.45964\n"
          ]
        }
      ],
      "source": [
        "def build_model():\n",
        "    model = Sequential()\n",
        "    model.add(Dense(64, input_shape=(x_train.shape[1],), activation='relu'))\n",
        "    model.add(Dropout(0))\n",
        "    model.add(Dense(64, activation='relu'))\n",
        "    model.add(Dropout(0))\n",
        "    model.add(Dense(10, activation='softmax'))\n",
        "    model.compile(loss='sparse_categorical_crossentropy', optimizer='Adam', metrics=['acc'])\n",
        "    return model\n",
        "\n",
        "# Create an instance of KerasClassifier using your build_model function\n",
        "estimator = KerasClassifier(build_fn=build_model, verbose=0, batch_size=300, epochs=20)\n",
        "\n",
        "numFolds = 5\n",
        "kfold = ShuffleSplit(n_splits=numFolds)\n",
        "\n",
        "cvs = cross_val_score(estimator, x_train, y_train, cv=kfold, n_jobs=-1)\n",
        "print(\"Scores:\")\n",
        "for i in range(numFolds):\n",
        "    print(cvs[i])\n",
        "print(\"Mean scores:\", cvs.mean())\n",
        "accuracyModeloOptimizado = cvs.mean()"
      ]
    },
    {
      "cell_type": "code",
      "execution_count": null,
      "metadata": {
        "colab": {
          "base_uri": "https://localhost:8080/"
        },
        "id": "2Yxjc1fFevs4",
        "outputId": "fec9e3aa-ece4-49cf-8642-40749da0e1ce"
      },
      "outputs": [
        {
          "name": "stderr",
          "output_type": "stream",
          "text": [
            "WARNING:absl:You are saving your model as an HDF5 file via `model.save()` or `keras.saving.save_model(model)`. This file format is considered legacy. We recommend using instead the native Keras format, e.g. `model.save('my_model.keras')` or `keras.saving.save_model(model, 'my_model.keras')`. \n"
          ]
        },
        {
          "name": "stdout",
          "output_type": "stream",
          "text": [
            "Guardando Red Neuronal en Archivo\n",
            "Red Neuronal Grabada en Archivo\n",
            "Modelo Base Guardado\n"
          ]
        }
      ],
      "source": [
        "guardarNN(model,'modeloRedNeuronalOptimizado')\n",
        "print('Modelo Base Guardado')"
      ]
    },
    {
      "cell_type": "code",
      "execution_count": null,
      "metadata": {
        "colab": {
          "base_uri": "https://localhost:8080/",
          "height": 415
        },
        "id": "KYtSbl7c56nn",
        "outputId": "6e04fe16-afee-46dd-82bf-4fb6b7f1217a"
      },
      "outputs": [
        {
          "name": "stdout",
          "output_type": "stream",
          "text": [
            "\u001b[1m313/313\u001b[0m \u001b[32m━━━━━━━━━━━━━━━━━━━━\u001b[0m\u001b[37m\u001b[0m \u001b[1m1s\u001b[0m 2ms/step\n",
            "[3 9 8 ... 5 6 7]\n",
            "[3 8 8 ... 5 1 7]\n"
          ]
        },
        {
          "data": {
            "application/vnd.google.colaboratory.intrinsic+json": {
              "summary": "{\n  \"name\": \"dataframeFinal\",\n  \"rows\": 10000,\n  \"fields\": [\n    {\n      \"column\": \"real\",\n      \"properties\": {\n        \"dtype\": \"uint8\",\n        \"num_unique_values\": 10,\n        \"samples\": [\n          4,\n          8,\n          9\n        ],\n        \"semantic_type\": \"\",\n        \"description\": \"\"\n      }\n    },\n    {\n      \"column\": \"predicci\\u00f3n\",\n      \"properties\": {\n        \"dtype\": \"number\",\n        \"std\": 2,\n        \"min\": 0,\n        \"max\": 9,\n        \"num_unique_values\": 10,\n        \"samples\": [\n          7,\n          9,\n          6\n        ],\n        \"semantic_type\": \"\",\n        \"description\": \"\"\n      }\n    }\n  ]\n}",
              "type": "dataframe",
              "variable_name": "dataframeFinal"
            },
            "text/html": [
              "\n",
              "  <div id=\"df-c58b744b-cd86-4afc-bffa-fb8d808677fb\" class=\"colab-df-container\">\n",
              "    <div>\n",
              "<style scoped>\n",
              "    .dataframe tbody tr th:only-of-type {\n",
              "        vertical-align: middle;\n",
              "    }\n",
              "\n",
              "    .dataframe tbody tr th {\n",
              "        vertical-align: top;\n",
              "    }\n",
              "\n",
              "    .dataframe thead th {\n",
              "        text-align: right;\n",
              "    }\n",
              "</style>\n",
              "<table border=\"1\" class=\"dataframe\">\n",
              "  <thead>\n",
              "    <tr style=\"text-align: right;\">\n",
              "      <th></th>\n",
              "      <th>real</th>\n",
              "      <th>predicción</th>\n",
              "    </tr>\n",
              "  </thead>\n",
              "  <tbody>\n",
              "    <tr>\n",
              "      <th>0</th>\n",
              "      <td>3</td>\n",
              "      <td>3</td>\n",
              "    </tr>\n",
              "    <tr>\n",
              "      <th>1</th>\n",
              "      <td>8</td>\n",
              "      <td>9</td>\n",
              "    </tr>\n",
              "    <tr>\n",
              "      <th>2</th>\n",
              "      <td>8</td>\n",
              "      <td>8</td>\n",
              "    </tr>\n",
              "    <tr>\n",
              "      <th>3</th>\n",
              "      <td>0</td>\n",
              "      <td>0</td>\n",
              "    </tr>\n",
              "    <tr>\n",
              "      <th>4</th>\n",
              "      <td>6</td>\n",
              "      <td>4</td>\n",
              "    </tr>\n",
              "    <tr>\n",
              "      <th>5</th>\n",
              "      <td>6</td>\n",
              "      <td>6</td>\n",
              "    </tr>\n",
              "    <tr>\n",
              "      <th>6</th>\n",
              "      <td>1</td>\n",
              "      <td>3</td>\n",
              "    </tr>\n",
              "    <tr>\n",
              "      <th>7</th>\n",
              "      <td>6</td>\n",
              "      <td>2</td>\n",
              "    </tr>\n",
              "    <tr>\n",
              "      <th>8</th>\n",
              "      <td>3</td>\n",
              "      <td>2</td>\n",
              "    </tr>\n",
              "    <tr>\n",
              "      <th>9</th>\n",
              "      <td>1</td>\n",
              "      <td>1</td>\n",
              "    </tr>\n",
              "  </tbody>\n",
              "</table>\n",
              "</div>\n",
              "    <div class=\"colab-df-buttons\">\n",
              "\n",
              "  <div class=\"colab-df-container\">\n",
              "    <button class=\"colab-df-convert\" onclick=\"convertToInteractive('df-c58b744b-cd86-4afc-bffa-fb8d808677fb')\"\n",
              "            title=\"Convert this dataframe to an interactive table.\"\n",
              "            style=\"display:none;\">\n",
              "\n",
              "  <svg xmlns=\"http://www.w3.org/2000/svg\" height=\"24px\" viewBox=\"0 -960 960 960\">\n",
              "    <path d=\"M120-120v-720h720v720H120Zm60-500h600v-160H180v160Zm220 220h160v-160H400v160Zm0 220h160v-160H400v160ZM180-400h160v-160H180v160Zm440 0h160v-160H620v160ZM180-180h160v-160H180v160Zm440 0h160v-160H620v160Z\"/>\n",
              "  </svg>\n",
              "    </button>\n",
              "\n",
              "  <style>\n",
              "    .colab-df-container {\n",
              "      display:flex;\n",
              "      gap: 12px;\n",
              "    }\n",
              "\n",
              "    .colab-df-convert {\n",
              "      background-color: #E8F0FE;\n",
              "      border: none;\n",
              "      border-radius: 50%;\n",
              "      cursor: pointer;\n",
              "      display: none;\n",
              "      fill: #1967D2;\n",
              "      height: 32px;\n",
              "      padding: 0 0 0 0;\n",
              "      width: 32px;\n",
              "    }\n",
              "\n",
              "    .colab-df-convert:hover {\n",
              "      background-color: #E2EBFA;\n",
              "      box-shadow: 0px 1px 2px rgba(60, 64, 67, 0.3), 0px 1px 3px 1px rgba(60, 64, 67, 0.15);\n",
              "      fill: #174EA6;\n",
              "    }\n",
              "\n",
              "    .colab-df-buttons div {\n",
              "      margin-bottom: 4px;\n",
              "    }\n",
              "\n",
              "    [theme=dark] .colab-df-convert {\n",
              "      background-color: #3B4455;\n",
              "      fill: #D2E3FC;\n",
              "    }\n",
              "\n",
              "    [theme=dark] .colab-df-convert:hover {\n",
              "      background-color: #434B5C;\n",
              "      box-shadow: 0px 1px 3px 1px rgba(0, 0, 0, 0.15);\n",
              "      filter: drop-shadow(0px 1px 2px rgba(0, 0, 0, 0.3));\n",
              "      fill: #FFFFFF;\n",
              "    }\n",
              "  </style>\n",
              "\n",
              "    <script>\n",
              "      const buttonEl =\n",
              "        document.querySelector('#df-c58b744b-cd86-4afc-bffa-fb8d808677fb button.colab-df-convert');\n",
              "      buttonEl.style.display =\n",
              "        google.colab.kernel.accessAllowed ? 'block' : 'none';\n",
              "\n",
              "      async function convertToInteractive(key) {\n",
              "        const element = document.querySelector('#df-c58b744b-cd86-4afc-bffa-fb8d808677fb');\n",
              "        const dataTable =\n",
              "          await google.colab.kernel.invokeFunction('convertToInteractive',\n",
              "                                                    [key], {});\n",
              "        if (!dataTable) return;\n",
              "\n",
              "        const docLinkHtml = 'Like what you see? Visit the ' +\n",
              "          '<a target=\"_blank\" href=https://colab.research.google.com/notebooks/data_table.ipynb>data table notebook</a>'\n",
              "          + ' to learn more about interactive tables.';\n",
              "        element.innerHTML = '';\n",
              "        dataTable['output_type'] = 'display_data';\n",
              "        await google.colab.output.renderOutput(dataTable, element);\n",
              "        const docLink = document.createElement('div');\n",
              "        docLink.innerHTML = docLinkHtml;\n",
              "        element.appendChild(docLink);\n",
              "      }\n",
              "    </script>\n",
              "  </div>\n",
              "\n",
              "\n",
              "<div id=\"df-2826fea1-3290-4d93-ae79-207fc1991374\">\n",
              "  <button class=\"colab-df-quickchart\" onclick=\"quickchart('df-2826fea1-3290-4d93-ae79-207fc1991374')\"\n",
              "            title=\"Suggest charts\"\n",
              "            style=\"display:none;\">\n",
              "\n",
              "<svg xmlns=\"http://www.w3.org/2000/svg\" height=\"24px\"viewBox=\"0 0 24 24\"\n",
              "     width=\"24px\">\n",
              "    <g>\n",
              "        <path d=\"M19 3H5c-1.1 0-2 .9-2 2v14c0 1.1.9 2 2 2h14c1.1 0 2-.9 2-2V5c0-1.1-.9-2-2-2zM9 17H7v-7h2v7zm4 0h-2V7h2v10zm4 0h-2v-4h2v4z\"/>\n",
              "    </g>\n",
              "</svg>\n",
              "  </button>\n",
              "\n",
              "<style>\n",
              "  .colab-df-quickchart {\n",
              "      --bg-color: #E8F0FE;\n",
              "      --fill-color: #1967D2;\n",
              "      --hover-bg-color: #E2EBFA;\n",
              "      --hover-fill-color: #174EA6;\n",
              "      --disabled-fill-color: #AAA;\n",
              "      --disabled-bg-color: #DDD;\n",
              "  }\n",
              "\n",
              "  [theme=dark] .colab-df-quickchart {\n",
              "      --bg-color: #3B4455;\n",
              "      --fill-color: #D2E3FC;\n",
              "      --hover-bg-color: #434B5C;\n",
              "      --hover-fill-color: #FFFFFF;\n",
              "      --disabled-bg-color: #3B4455;\n",
              "      --disabled-fill-color: #666;\n",
              "  }\n",
              "\n",
              "  .colab-df-quickchart {\n",
              "    background-color: var(--bg-color);\n",
              "    border: none;\n",
              "    border-radius: 50%;\n",
              "    cursor: pointer;\n",
              "    display: none;\n",
              "    fill: var(--fill-color);\n",
              "    height: 32px;\n",
              "    padding: 0;\n",
              "    width: 32px;\n",
              "  }\n",
              "\n",
              "  .colab-df-quickchart:hover {\n",
              "    background-color: var(--hover-bg-color);\n",
              "    box-shadow: 0 1px 2px rgba(60, 64, 67, 0.3), 0 1px 3px 1px rgba(60, 64, 67, 0.15);\n",
              "    fill: var(--button-hover-fill-color);\n",
              "  }\n",
              "\n",
              "  .colab-df-quickchart-complete:disabled,\n",
              "  .colab-df-quickchart-complete:disabled:hover {\n",
              "    background-color: var(--disabled-bg-color);\n",
              "    fill: var(--disabled-fill-color);\n",
              "    box-shadow: none;\n",
              "  }\n",
              "\n",
              "  .colab-df-spinner {\n",
              "    border: 2px solid var(--fill-color);\n",
              "    border-color: transparent;\n",
              "    border-bottom-color: var(--fill-color);\n",
              "    animation:\n",
              "      spin 1s steps(1) infinite;\n",
              "  }\n",
              "\n",
              "  @keyframes spin {\n",
              "    0% {\n",
              "      border-color: transparent;\n",
              "      border-bottom-color: var(--fill-color);\n",
              "      border-left-color: var(--fill-color);\n",
              "    }\n",
              "    20% {\n",
              "      border-color: transparent;\n",
              "      border-left-color: var(--fill-color);\n",
              "      border-top-color: var(--fill-color);\n",
              "    }\n",
              "    30% {\n",
              "      border-color: transparent;\n",
              "      border-left-color: var(--fill-color);\n",
              "      border-top-color: var(--fill-color);\n",
              "      border-right-color: var(--fill-color);\n",
              "    }\n",
              "    40% {\n",
              "      border-color: transparent;\n",
              "      border-right-color: var(--fill-color);\n",
              "      border-top-color: var(--fill-color);\n",
              "    }\n",
              "    60% {\n",
              "      border-color: transparent;\n",
              "      border-right-color: var(--fill-color);\n",
              "    }\n",
              "    80% {\n",
              "      border-color: transparent;\n",
              "      border-right-color: var(--fill-color);\n",
              "      border-bottom-color: var(--fill-color);\n",
              "    }\n",
              "    90% {\n",
              "      border-color: transparent;\n",
              "      border-bottom-color: var(--fill-color);\n",
              "    }\n",
              "  }\n",
              "</style>\n",
              "\n",
              "  <script>\n",
              "    async function quickchart(key) {\n",
              "      const quickchartButtonEl =\n",
              "        document.querySelector('#' + key + ' button');\n",
              "      quickchartButtonEl.disabled = true;  // To prevent multiple clicks.\n",
              "      quickchartButtonEl.classList.add('colab-df-spinner');\n",
              "      try {\n",
              "        const charts = await google.colab.kernel.invokeFunction(\n",
              "            'suggestCharts', [key], {});\n",
              "      } catch (error) {\n",
              "        console.error('Error during call to suggestCharts:', error);\n",
              "      }\n",
              "      quickchartButtonEl.classList.remove('colab-df-spinner');\n",
              "      quickchartButtonEl.classList.add('colab-df-quickchart-complete');\n",
              "    }\n",
              "    (() => {\n",
              "      let quickchartButtonEl =\n",
              "        document.querySelector('#df-2826fea1-3290-4d93-ae79-207fc1991374 button');\n",
              "      quickchartButtonEl.style.display =\n",
              "        google.colab.kernel.accessAllowed ? 'block' : 'none';\n",
              "    })();\n",
              "  </script>\n",
              "</div>\n",
              "\n",
              "    </div>\n",
              "  </div>\n"
            ],
            "text/plain": [
              "   real  predicción\n",
              "0     3           3\n",
              "1     8           9\n",
              "2     8           8\n",
              "3     0           0\n",
              "4     6           4\n",
              "5     6           6\n",
              "6     1           3\n",
              "7     6           2\n",
              "8     3           2\n",
              "9     1           1"
            ]
          },
          "execution_count": 52,
          "metadata": {},
          "output_type": "execute_result"
        }
      ],
      "source": [
        "#Predicciones\n",
        "y_pred = model.predict(x_test)\n",
        "y_pred = np.argmax(y_pred, axis=-1)\n",
        "y_pred = y_pred.flatten()\n",
        "y_test2 = y_test.flatten()\n",
        "print(y_pred)\n",
        "print(y_test2)\n",
        "dataframeFinal=pd.DataFrame({'real':y_test2, 'predicción': y_pred})\n",
        "np.set_printoptions(formatter={'float': lambda X: \"{0:0.0f}\".format(X)})\n",
        "dataframeFinal.head(10)"
      ]
    },
    {
      "cell_type": "code",
      "execution_count": null,
      "metadata": {
        "colab": {
          "base_uri": "https://localhost:8080/",
          "height": 1000
        },
        "id": "GJgUpt-D59CI",
        "outputId": "87d83f3c-663a-42d3-f4c3-1d24132a2c90"
      },
      "outputs": [
        {
          "name": "stdout",
          "output_type": "stream",
          "text": [
            "Mean Absolute Error (MAE): 1.9374\n",
            "Mean Squared Error (MSE): 9.9344\n",
            "Root Mean Squared Error (RMSE): 3.1519\n",
            "Accuracy: 0.4576\n",
            "Precision:  0.4604\n",
            "Recall:  0.4576\n",
            "F1: 0.4512\n"
          ]
        },
        {
          "data": {
            "image/png": "[encoded data removed]",
            "text/plain": [
              "<Figure size 1500x1000 with 2 Axes>"
            ]
          },
          "metadata": {},
          "output_type": "display_data"
        }
      ],
      "source": [
        "from sklearn.metrics import confusion_matrix\n",
        "import seaborn as sns\n",
        "from sklearn import metrics\n",
        "from sklearn.metrics import accuracy_score\n",
        "from sklearn.metrics import precision_score\n",
        "from sklearn.metrics import recall_score\n",
        "from sklearn.metrics import f1_score\n",
        "from matplotlib import*\n",
        "from matplotlib.cm import register_cmap\n",
        "import matplotlib.pyplot as plt\n",
        "\n",
        "MAE=metrics.mean_absolute_error(y_test2, y_pred)\n",
        "MSE=metrics.mean_squared_error(y_test2, y_pred)\n",
        "RMSE=np.sqrt(metrics.mean_squared_error(y_test2, y_pred))\n",
        "\n",
        "MAE=str(round(MAE, 4))\n",
        "MSE=str(round(MSE, 4))\n",
        "RMSE=str(round(RMSE, 4))\n",
        "\n",
        "print('Mean Absolute Error (MAE):', MAE)\n",
        "print('Mean Squared Error (MSE):', MSE)\n",
        "print('Root Mean Squared Error (RMSE):', RMSE)\n",
        "\n",
        "accuracyModeloBase=str(accuracy_score(y_test2,y_pred))\n",
        "print('Accuracy: ' + accuracyModeloOptimizado)\n",
        "\n",
        "precision=precision_score(y_test2,y_pred, average='weighted')#average one of [None, 'micro', 'macro', 'weighted']\n",
        "precision=str(round(precision, 4))\n",
        "print('Precision: ',precision)\n",
        "\n",
        "recall=recall_score(y_test2,y_pred, average='weighted')\n",
        "recall=str(round(recall, 4))\n",
        "print('Recall: ',recall)\n",
        "\n",
        "f1=f1_score(y_test2,y_pred, average='weighted')\n",
        "f1=str(round(f1, 4))\n",
        "print('F1:',f1)\n",
        "\n",
        "\n",
        "plt.figure(figsize=(15,10))\n",
        "fx=sns.heatmap(confusion_matrix(y_test2,y_pred), annot=True, fmt=\".2f\",cmap=\"GnBu\")\n",
        "fx.set_title('Confusion Matrix \\n');\n",
        "fx.set_xlabel('\\n Valores de predicción\\n')\n",
        "fx.set_ylabel('Valores reales\\n');\n",
        "fx.xaxis.set_ticklabels(_load_label_names())\n",
        "fx.yaxis.set_ticklabels(_load_label_names())\n",
        "plt.show()"
      ]
    },
    {
      "cell_type": "markdown",
      "metadata": {
        "id": "Lgf8-9RL743i"
      },
      "source": [
        "*Comparación de modelos*"
      ]
    },
    {
      "cell_type": "code",
      "execution_count": null,
      "metadata": {
        "colab": {
          "base_uri": "https://localhost:8080/"
        },
        "id": "SAkYLloT2I9v",
        "outputId": "20698149-41b1-424d-c16e-695a74bb0c2a"
      },
      "outputs": [
        {
          "name": "stderr",
          "output_type": "stream",
          "text": [
            "WARNING:absl:Compiled the loaded model, but the compiled metrics have yet to be built. `model.compile_metrics` will be empty until you train or evaluate the model.\n",
            "WARNING:absl:Compiled the loaded model, but the compiled metrics have yet to be built. `model.compile_metrics` will be empty until you train or evaluate the model.\n"
          ]
        },
        {
          "name": "stdout",
          "output_type": "stream",
          "text": [
            "Red Neuronal Cargada desde Archivo\n",
            "Red Neuronal Cargada desde Archivo\n",
            "Accuracy Modelo Base:  0.4576\n",
            "Accuracy Modelo Optimizado:  0.45964\n",
            "Mejora en %: 0.204\n"
          ]
        }
      ],
      "source": [
        "modeloBase=cargarNN('modeloRedNeuronalBase')\n",
        "modeloOptimizado=cargarNN('modeloRedNeuronalOptimizada')\n",
        "\n",
        "accuracyModeloBase=float(str(accuracyModeloBase))\n",
        "accuracyModeloOptimizado=float(str(accuracyModeloOptimizado))\n",
        "print('Accuracy Modelo Base: ',accuracyModeloBase)\n",
        "print('Accuracy Modelo Optimizado: ',accuracyModeloOptimizado)\n",
        "mejora=float(str(round((accuracyModeloOptimizado-accuracyModeloBase)*100,4)))\n",
        "\n",
        "print('Mejora en %:',mejora)"
      ]
    },
    {
      "cell_type": "markdown",
      "metadata": {
        "id": "GPVD7jXw8Ft7"
      },
      "source": [
        "**1.5\tDesarrollar una función propia de predicción para una nueva imagen que puede venir en UNA de las siguientes formas: b.\tUna imagen nueva indicando el PATH**"
      ]
    },
    {
      "cell_type": "markdown",
      "metadata": {
        "id": "6Me6vMT779Hq"
      },
      "source": [
        "*Predicción de nuevos samples (nuevos imagenes)*"
      ]
    },
    {
      "cell_type": "code",
      "execution_count": null,
      "metadata": {
        "colab": {
          "base_uri": "https://localhost:8080/",
          "height": 534
        },
        "id": "BhlalYpY6pvG",
        "outputId": "ac009f41-cdcb-4c7b-a0c5-710a1cdb142c"
      },
      "outputs": [
        {
          "name": "stdout",
          "output_type": "stream",
          "text": [
            "\u001b[1m1/1\u001b[0m \u001b[32m━━━━━━━━━━━━━━━━━━━━\u001b[0m\u001b[37m\u001b[0m \u001b[1m0s\u001b[0m 25ms/step\n"
          ]
        },
        {
          "data": {
            "image/png": "[encoded data removed]",
            "text/plain": [
              "<Figure size 600x600 with 1 Axes>"
            ]
          },
          "metadata": {},
          "output_type": "display_data"
        },
        {
          "name": "stdout",
          "output_type": "stream",
          "text": [
            "Predicción final: dog (Valor: 1.0000)\n"
          ]
        }
      ],
      "source": [
        "import cv2\n",
        "image_path = '/content/mia.jpg'  # Reemplaza 'ruta_de_tu_imagen.jpg' con la ruta correcta\n",
        "\n",
        "# Cargar la imagen desde tu computadora\n",
        "image = cv2.imread(image_path)\n",
        "\n",
        "# Asegurarse de que la imagen se haya cargado correctamente\n",
        "if image is not None:\n",
        "    # Preprocesar la imagen\n",
        "    image = cv2.cvtColor(image, cv2.COLOR_BGR2RGB)  # Convertir de BGR a RGB si es necesario\n",
        "    image = cv2.resize(image, (32, 32))  # Cambiar el tamaño de la imagen si es necesario\n",
        "    image = image.reshape(1, -1)\n",
        "\n",
        "    # Realizar la predicción\n",
        "    predictions = modeloOptimizado.predict(image)\n",
        "    predictions = predictions.flatten()\n",
        "\n",
        "    # Obtener el nombre de las etiquetas\n",
        "    label_names = ['airplane', 'automobile', 'bird', 'cat', 'deer', 'dog', 'frog', 'horse', 'ship', 'truck']\n",
        "\n",
        "    # Obtener la clase con el valor más alto como predicción final\n",
        "    predicted_class_index = predictions.argmax()\n",
        "    predicted_class_name = label_names[predicted_class_index]\n",
        "    predicted_class_value = predictions[predicted_class_index]\n",
        "\n",
        "    # Mostrar la imagen con el resultado en la parte superior\n",
        "    fig = plt.figure(figsize=(6, 6))\n",
        "    plt.text(0, 1.05, 'Predicción: {}'.format(predicted_class_name), fontsize=12, weight='bold', ha='left', va='top')\n",
        "    plt.imshow(image.reshape(32, 32, 3))\n",
        "    plt.axis('off')\n",
        "    plt.show()\n",
        "\n",
        "    print('Predicción final: {} (Valor: {:.4f})'.format(predicted_class_name, predicted_class_value))\n",
        "else:\n",
        "    print('No se pudo cargar la imagen desde la ruta especificada.')"
      ]
    },
    {
      "cell_type": "markdown",
      "metadata": {
        "id": "dtIL9hOL8sWs"
      },
      "source": [
        "**1.6\tConclusiones**\n",
        "- Primeramente describimos el dataset en el cual hablamos de las diez categorias que tiene (airplane : 0 automobile : 1 bird : 2 cat : 3 deer : 4 dog : 5 frog : 6 horse : 7 ship : 8 truck : 9), ademas recordar que este dataset tiene 60000 imagenes, 50000 para train y 10000 para test, además analizamos sus dimensiones y todos los valores relevantes del dataset.\n",
        "- En la parte del entrenamiento de la red neuronal base lo que hicimos fue realizar un modelo de 3 capas con neuronas de 32, 64 y 10 neuronas respectivamente, comenzamos con una estructura simple y con los epochs a 10, esto para lograr un mejor resultado del entrenamiento. Asi es como conseguimnos una accurracy del 0.39.\n",
        "- Luego mostramos los resultados de calidad que viene a ser buenos (Accuracy: 0.4256, Precision:  0.4215, Recall:  0.4256, F1: 0.4194). Adenas de que mostramos la matriz de confusion donde pudimos ver que la mayoria de aciertos en cuanto a reales y prediccion son con los airplane, frog y ship.\n",
        "-Despues con esos fundamentos, logramos pasar a la optimizacion del modelo de la red neuronal (fine tuning); seguimos con el Paso 1. Parámetros de compilación: batcha size, cantidad de epochs, optimizador, con la ayuda del GridSearch, conseguimnos realizar una gran cantidad de comparacion donde llegamos a la conclusion de que con  batch_size: 300, 'epochs': 20, 'optimizer': 'Adam' llegamos una accurracy del 0.38.\n",
        "- Aplicando los mejores parametros de compilacion que recien conseguimos a concer pasamod son el Paso 2. Densidad de las capas de neuronas y regularización de Dropout, donde nos muestra que con 'model__dr': 0, 'model__l1': 64, 'model__l2': 64 tenemos un accuracy de 0.42.\n",
        "-Realizamos comparaciones de ambos modelos y, con la ayuda de tablas y mapas de calor, llegamos a la conclusion que el modelo Optimizado, que junta todos nuestros nuevos valores a los parametros mas revelantes lo usamos para ajustar nuestro nuevo modelo optimizado llegamos a alcanzar un nuevo accuracy de 0.45, tiene una mejora del 0.204%, lo cual puede parecer leve por el momento pero en si demuestra la eficacia de los procedimientos de la optimizacion.\n",
        "- Por ultimo logramos hacer predicciones, utilizando el modelo Optimizado, de imagenes sacada de una ruta en donde usamos una foto de una perrita y la prediccion acertó con que era un perro.\n",
        "- A lo largo de la practica llegamos tambien a conclusiones tambien en como se podria mejor estos procesos de optimizacion de una red neuronal, tratar de trabajar con un batch de imagenes primero para que podamos realizar las ejecuciones y pruebas de manera mas agil, diseñar un modelo con pocas capas y que sea simple para que el gridsearch no comsuma tantos recursos ni tanto tiempo."
      ]
    },
    {
      "cell_type": "markdown",
      "metadata": {
        "id": "luh_8kZ28sNc"
      },
      "source": [
        "**1.7\tReferencias**\n",
        "- CIFAR-10 and CIFAR-100 datasets. (s/f). Toronto.edu. Recuperado de https://www.cs.toronto.edu/~kriz/cifar.html\n",
        "- OpenCV: OpenCV modules. (s. f.). Recuperado de https://docs.opencv.org/4.x/\n",
        "- Activation parameter not working in GridSearch. (2022). stackoverflow. Recuperado de https://stackoverflow.com/questions/70250928/activation-parameter-not-working-in-gridsearch#comment126992357_70250928"
      ]
    },
    {
      "cell_type": "code",
      "execution_count": null,
      "metadata": {
        "id": "MmuedI7C9aYG"
      },
      "outputs": [],
      "source": []
    }
  ],
  "metadata": {
    "accelerator": "GPU",
    "colab": {
      "gpuType": "T4",
      "provenance": []
    },
    "kernelspec": {
      "display_name": "Python 3",
      "name": "python3"
    },
    "language_info": {
      "name": "python"
    }
  },
  "nbformat": 4,
  "nbformat_minor": 0
}